{
 "cells": [
  {
   "cell_type": "markdown",
   "id": "04577b5b-2e1b-4f17-aefa-0a7b86689d54",
   "metadata": {},
   "source": [
    "# Welcome"
   ]
  },
  {
   "cell_type": "markdown",
   "id": "6c11e936-21be-4c25-a008-676023575451",
   "metadata": {},
   "source": [
    "## Prerequisite Knowledge\n",
    "\n",
    "To follow along with this tutorial, you will want to have exposure to Python. Familiarity with ipywidgets would also be helpful."
   ]
  },
  {
   "cell_type": "markdown",
   "id": "bc02cd49-8ad8-4a7b-8a64-0b00ad606103",
   "metadata": {},
   "source": [
    "## [Zoom Help](https://lbnl.zoom.us/j/93949723718?pwd=VGFBNjRweW9tSzMyUDMwZ0o0d0Fodz09)\n",
    "\n",
    "We will cover how to import answers from an external file in the next notebook, but if you feel stuck at any point, please join zoom to get help from Ludovico."
   ]
  },
  {
   "cell_type": "markdown",
   "id": "424ab3ed-79d5-47d0-966a-2c4d9a9d8518",
   "metadata": {},
   "source": [
    "## Don't Forget to Pull"
   ]
  },
  {
   "cell_type": "code",
   "execution_count": null,
   "id": "0f251cc9-a4ae-4066-b225-e3df83c46a7d",
   "metadata": {},
   "outputs": [],
   "source": [
    "%%bash\n",
    "\n",
    "git pull"
   ]
  },
  {
   "cell_type": "markdown",
   "id": "d7380145-146b-4587-8520-b96e881c2a88",
   "metadata": {},
   "source": [
    "## Introductions\n",
    "\n",
    "* **Who am I**\n",
    "* **Who are you**\n",
    "    * Who here has a workflow in a Jupyter Notebook\n",
    "    * What domains are you from\n",
    "    * Do you consider yourself a research? Developer? Something else?\n",
    "* **What are you familiar with already**\n",
    "    * python\n",
    "    * Jupyter\n",
    "    * JupyterLab\n",
    "    * ipywidgets\n",
    "    * nbdev"
   ]
  },
  {
   "cell_type": "markdown",
   "id": "6fa9dc69-6aa2-4024-bd51-ca7aa935f59a",
   "metadata": {},
   "source": [
    "## Expectations\n",
    "\n",
    "- please interrupt with questions at any time\n",
    "- use stickies to indicate when you are done with an exercise"
   ]
  },
  {
   "cell_type": "markdown",
   "id": "23d4a1bc-b7c5-4966-a567-374d55d3c8fb",
   "metadata": {},
   "source": [
    "## Preview of the Final Product"
   ]
  },
  {
   "cell_type": "code",
   "execution_count": null,
   "id": "2df63040-7a12-44f2-a3d1-2db16e249bc7",
   "metadata": {},
   "outputs": [],
   "source": [
    "%%bash\n",
    "\n",
    "voila 08_dashboard.ipynb"
   ]
  },
  {
   "cell_type": "markdown",
   "id": "60357866-72c6-48d0-93e9-eb3059b18695",
   "metadata": {},
   "source": [
    "## What we are going to learn\n",
    "\n",
    "0. Installing environment\n",
    "1. Getting started: JupyterLab and ipywidgets\n",
    "    - Benefits of developing in Jupyter\n",
    "    - Benefits of JupyterLab\n",
    "    - ipywidgets\n",
    "2. workflow: Get familiar with a scientific workflow\n",
    "3. nbdev: Use nbdev to export notebook cells to python modules\n",
    "4. widgets: use ipywidgets and nbdev to create the beginnings of a dashboard\n",
    "5. dashboard_01 (code only)\n",
    "6. publishing: use Binder and Voila to publish your application\n",
    "7. layouts: styling and arranging widgets\n",
    "8. dashboard_02 (code only)\n",
    "9. review"
   ]
  }
 ],
 "metadata": {
  "kernelspec": {
   "display_name": "python3",
   "language": "python",
   "name": "python3"
  }
 },
 "nbformat": 4,
 "nbformat_minor": 5
}
