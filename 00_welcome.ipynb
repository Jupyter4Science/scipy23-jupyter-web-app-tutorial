{
 "cells": [
  {
   "cell_type": "markdown",
   "id": "04577b5b-2e1b-4f17-aefa-0a7b86689d54",
   "metadata": {},
   "source": [
    "# Welcome"
   ]
  },
  {
   "cell_type": "markdown",
   "id": "6c11e936-21be-4c25-a008-676023575451",
   "metadata": {},
   "source": [
    "## Prerequisite Knowledge\n",
    "\n",
    "To follow along with this tutorial, you will want to have exposure to Python and Object-Oriented Programming. Familiarity with ipywidgets would also be helpful."
   ]
  },
  {
   "cell_type": "markdown",
   "id": "d7380145-146b-4587-8520-b96e881c2a88",
   "metadata": {},
   "source": [
    "## Introductions\n",
    "\n",
    "* **Who am I**\n",
    "* **Who are you**\n",
    "    * Who here has a workflow in a Jupyter Notebook\n",
    "    * What domains are you from\n",
    "    * Do you consider yourself a research? Developer? Something else?\n",
    "* **Why you signed up for this workshop**\n",
    "* **What are you familiar with already**\n",
    "    * python\n",
    "    * Jupyter\n",
    "    * JupyterLab\n",
    "    * ipywidgets"
   ]
  },
  {
   "cell_type": "markdown",
   "id": "6fa9dc69-6aa2-4024-bd51-ca7aa935f59a",
   "metadata": {},
   "source": [
    "## Expectations\n",
    "\n",
    "- please interrupt with questions at any time\n",
    "- use stickies to indicate when you are done with an exercise"
   ]
  },
  {
   "cell_type": "markdown",
   "id": "60357866-72c6-48d0-93e9-eb3059b18695",
   "metadata": {},
   "source": [
    "## What we are going to learn\n",
    "\n",
    "0. Installing environment\n",
    "1. Getting started with JupyterLab and ipywidgets\n",
    "    - Benefits of developing in Jupyter\n",
    "    - Benefits of JupyterLab\n",
    "      - File browser\n",
    "      - Output view\n",
    "      - Click-and-drag windows\n",
    "    - ipywidgets\n",
    "      - Bi-directional communication\n",
    "      - Trait validation\n",
    "      - Observing trait changes\n",
    "    - Preview of dashboard\n",
    "2. Get familiar with a scientific workflow\n",
    "  - Plot original data\n",
    "  - Add column for Savitzky-Golay filter\n",
    "  - Select a range of data\n",
    "  - Plot selected data with smoothed curve\n",
    "3. Dashboarding: use ipywidgets and nbdev to create the beginnings of a dashboard\n",
    "4. Dashboard: use container widgets to layout dashboard\n",
    "4. Strip away the development cells and preview the final product\n",
    "5. Learn how to deploy the app with Voila and Binder"
   ]
  },
  {
   "cell_type": "code",
   "execution_count": null,
   "id": "487de2c6-4f7d-4f48-960c-fab45de78b13",
   "metadata": {},
   "outputs": [],
   "source": []
  }
 ],
 "metadata": {
  "kernelspec": {
   "display_name": "python3",
   "language": "python",
   "name": "python3"
  }
 },
 "nbformat": 4,
 "nbformat_minor": 5
}
