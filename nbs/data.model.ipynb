{
 "cells": [
  {
   "cell_type": "markdown",
   "id": "df28b6ab-f9f7-4da1-8634-455d3c8557d6",
   "metadata": {},
   "source": [
    "# Data Model\n",
    "> We create a model that allows us to upload data from a file containing land-ocean temperatures."
   ]
  },
  {
   "cell_type": "code",
   "execution_count": null,
   "id": "a36af334-da95-459c-8115-eaab85ef72d2",
   "metadata": {},
   "outputs": [],
   "source": [
    "#| default_exp data.model"
   ]
  },
  {
   "cell_type": "code",
   "execution_count": null,
   "id": "c48bd751-e615-4c96-8103-22852eac2ef9",
   "metadata": {},
   "outputs": [],
   "source": [
    "#| export \n",
    "from traitlets import HasTraits, TraitError, Unicode, Int, Float, Unicode, validate, observe\n",
    "import pandas as pd\n",
    "import ipywidgets as widgets\n",
    "from scipy.signal import savgol_filter\n",
    "import statsmodels.api as sm\n",
    "import json"
   ]
  },
  {
   "cell_type": "code",
   "execution_count": null,
   "id": "e24b8064-8a7d-4f86-94e1-39133a08b302",
   "metadata": {},
   "outputs": [],
   "source": [
    "#| export\n",
    "class DataModel(HasTraits):\n",
    "    \n",
    "    path = Unicode()\n",
    "    from_year = Int()\n",
    "    to_year = Int()\n",
    "    ema_span = Int(default_value = 2)\n",
    "    frac = Float(default_value = .05)\n",
    "    it = Int(default_value = 3)\n",
    "    window_size = Int(default_value = 5)\n",
    "    poly_order = Int(default_value = 3)\n",
    "    min = Int()\n",
    "    max = Int()\n",
    "    smoothing_type = Unicode(default_value='Temperature')\n",
    "    \n",
    "    def __init__(self, path='../data/land-ocean-temp-index.csv'):\n",
    "        self.path = path\n",
    "        self.df = self.upload_df_from_path()\n",
    "        self.selected = self.df\n",
    "        self.min = min(self.df['Year'])\n",
    "        self.max = max(self.df['Year'])\n",
    "        self.to_year = self.max\n",
    "        self.from_year = self.min\n",
    "        \n",
    "    @observe('from_year')\n",
    "    def _observe_from_year(self, change):\n",
    "        self.selected = self.df[(self.df['Year'] >= int(change['new'])) & (self.df['Year'] <= int(self.to_year))]\n",
    "        self.len = len(self.df.index)\n",
    "        \n",
    "    @observe('to_year')\n",
    "    def _observe_to_year(self, change):\n",
    "        self.selected = self.df[(self.df['Year'] >= int(self.from_year)) & (self.df['Year'] <= int(change['new']))]\n",
    "        self.len = len(self.df.index)\n",
    "        \n",
    "    @observe('ema_span')\n",
    "    def _observe_ema_span(self, change):\n",
    "        self._update_EMA_column(change['new'])\n",
    "        \n",
    "    @observe('frac')\n",
    "    def _observe_frac(self, change):\n",
    "        self._update_LOWESS_column(change['new'], self.it)\n",
    "        \n",
    "    @observe('it')\n",
    "    def _observe_it(self, change):\n",
    "        self._update_LOWESS_column(self.frac, change['new'])\n",
    "        \n",
    "    @observe('window_size')\n",
    "    def _observe_window_size(self, change):\n",
    "        self._update_savgol_column(change['new'], self.poly_order)\n",
    "\n",
    "    @observe('poly_order')\n",
    "    def _observe_window_size(self, change):\n",
    "        self._update_savgol_column(self.window_size, change['new'])\n",
    "        \n",
    "    def _update_EMA_column(ema_span):\n",
    "        df['EMA'] = df['Temperature'].ewm(span=ema_span, adjust=False).mean()\n",
    "        \n",
    "    def _update_LOWESS_column(frac, it):\n",
    "        # Apply LOESS smoothing to the Temperature column\n",
    "        loess_smooth = sm.nonparametric.lowess(df['Temperature'], df['Year'], frac=frac)\n",
    "        df['LOWESS'] = loess_smooth[:, 1]\n",
    "        \n",
    "    def _update_savgol_column(window_size, poly_order):\n",
    "        # Apply Savitzky-Golay smoothing to the Temperature column\n",
    "        df['Savitzky-Golay'] = savgol_filter(df['Temperature'], window_size, poly_order)\n",
    "\n",
    "    @validate('ema_span')\n",
    "    def _valid_ema_span(self, change):\n",
    "        if proposal['value'] < 1:\n",
    "            raise TraitError('ema_span must be greater or equal to one')\n",
    "            \n",
    "    @validate('frac')\n",
    "    def _valid_frac(self, change):\n",
    "        if proposal['value'] < 0 or proposal['value'] > 1:\n",
    "            raise TraitError('frac must be in the range of 0 to 1')\n",
    "            \n",
    "    @validate('it')\n",
    "    def _valid_frac(self, change):\n",
    "        if proposal['value'] < 1 or proposal['value'] > 10:\n",
    "            raise TraitError('frac must be in the range of 1 to 10')\n",
    "            \n",
    "    @validate('window_size')\n",
    "    def _valid_frac(self, change):\n",
    "        if proposal['value'] < 0 or proposal['value'] > self.len:\n",
    "            raise TraitError('window_size must be less than or equal to the size of df')\n",
    "            \n",
    "    @validate('poly_order')\n",
    "    def _valid_frac(self, change):\n",
    "        if proposal['value'] < 0 or proposal['value'] > self.window_size:\n",
    "            raise TraitError('poly_order must be less than window_length')\n",
    "        \n",
    "    @validate('from_year')\n",
    "    def _valid_from_year(self, proposal):\n",
    "        if proposal['value'] > self.to_year:\n",
    "            raise TraitError('from_year must be less than or equal to to_year')\n",
    "        if proposal['value'] < self.min:\n",
    "            raise TraitError('from_year out of temperature data range')\n",
    "        return proposal['value']\n",
    "    \n",
    "    @validate('to_year')\n",
    "    def _valid_to_year(self, proposal):\n",
    "        if proposal['value'] < self.from_year:\n",
    "            raise TraitError('to_year must be greater than or equal to from_year')\n",
    "        if proposal['value'] > self.max:\n",
    "            raise TraitError('to_year out of temperature data range')\n",
    "        return proposal['value']\n",
    "    \n",
    "    def upload_df_from_path(self):\n",
    "        return pd.read_csv(self.path, escapechar='#')\n",
    "        \n",
    "    def __repr__(self):\n",
    "        values = self.trait_values()\n",
    "        values['df'] = 'call display to view'\n",
    "        values['selected'] = 'call display to view'\n",
    "        return json.dumps(values, indent=2)"
   ]
  },
  {
   "cell_type": "code",
   "execution_count": null,
   "id": "20ebf437-e896-4261-97eb-abe6ec1fa79d",
   "metadata": {},
   "outputs": [],
   "source": [
    "data_model = DataModel()\n",
    "data_model"
   ]
  },
  {
   "cell_type": "code",
   "execution_count": null,
   "id": "0ddc8a48-cd74-4382-a379-04fcaa342385",
   "metadata": {},
   "outputs": [],
   "source": [
    "data_model.df"
   ]
  },
  {
   "cell_type": "markdown",
   "id": "08c17612-8568-49c2-8ebb-aa1f6e844c98",
   "metadata": {},
   "source": [
    "## Tests"
   ]
  },
  {
   "cell_type": "code",
   "execution_count": null,
   "id": "97fe4610-56f1-444e-84fd-1607c62384d2",
   "metadata": {},
   "outputs": [],
   "source": [
    "error = False\n",
    "\n",
    "try:\n",
    "    data_model.from_year = 2000\n",
    "    data_model.to_year = 1993\n",
    "except:\n",
    "    error = True\n",
    "    \n",
    "assert error == True, 'An exception should be thrown when from_year is greater than to_year'"
   ]
  },
  {
   "cell_type": "code",
   "execution_count": null,
   "id": "f18de03b-7ecd-491a-8e4a-370e303c58ae",
   "metadata": {},
   "outputs": [],
   "source": [
    "data_model.from_year = 1993\n",
    "assert min(data_model.selected['Year']) == 1993\n",
    "\n",
    "data_model.to_year = 2000\n",
    "assert max(data_model.selected['Year']) == 2000"
   ]
  },
  {
   "cell_type": "code",
   "execution_count": null,
   "id": "ce281846-bec1-4c64-a440-869f44c40d33",
   "metadata": {},
   "outputs": [],
   "source": [
    "data_model.selected"
   ]
  },
  {
   "cell_type": "code",
   "execution_count": null,
   "id": "f3d7e3f6-72d3-4f6c-8b56-5e38b2ee13db",
   "metadata": {},
   "outputs": [],
   "source": [
    "#| hide\n",
    "import nbdev\n",
    "nbdev.nbdev_export()"
   ]
  },
  {
   "cell_type": "code",
   "execution_count": null,
   "id": "f1ccee45-d396-4acb-b115-56258e71d83e",
   "metadata": {},
   "outputs": [],
   "source": []
  }
 ],
 "metadata": {
  "kernelspec": {
   "display_name": "python3",
   "language": "python",
   "name": "python3"
  }
 },
 "nbformat": 4,
 "nbformat_minor": 5
}
