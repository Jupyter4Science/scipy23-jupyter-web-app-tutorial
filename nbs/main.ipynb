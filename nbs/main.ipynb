{
 "cells": [
  {
   "cell_type": "markdown",
   "id": "bc5690a8-9e85-416a-a7cc-165c1dc87750",
   "metadata": {},
   "source": [
    "# Main\n",
    "\n",
    "> The main component of the application that calls all the other components"
   ]
  },
  {
   "cell_type": "code",
   "execution_count": null,
   "id": "1d874ed4",
   "metadata": {},
   "outputs": [],
   "source": [
    "#| default_exp main"
   ]
  },
  {
   "cell_type": "code",
   "execution_count": null,
   "id": "fe85be4e-68eb-4ab8-8f7a-d493ed093a82",
   "metadata": {},
   "outputs": [],
   "source": [
    "#| export\n",
    "import ipywidgets as widgets\n",
    "from jupyter_web_app_template.data.model import DataModel\n",
    "from jupyter_web_app_template.data.view.select import DataSelectDelegate"
   ]
  },
  {
   "cell_type": "code",
   "execution_count": null,
   "id": "24abf064-818c-4bcf-af4a-670eff2bd341",
   "metadata": {},
   "outputs": [],
   "source": [
    "#| export\n",
    "class Main(widgets.Tab):\n",
    "    \n",
    "    def __init__(self):\n",
    "        super().__init__()\n",
    "        self.model = DataModel('../data/land-ocean-temp-index.csv')\n",
    "        self.data_select_delegate = DataSelectDelegate(self.model)\n",
    "        self.children = (self.data_select_delegate, widgets.Box(), widgets.Box())\n",
    "        self.titles = ('Select', 'Smooth Curve', 'Export')\n",
    "        self.data_select_delegate.next_step_btn.on_click(self._on_next_step_btn_click)\n",
    "        \n",
    "    def _on_next_step_btn_click(self, b):\n",
    "        self.selected_index = 1"
   ]
  },
  {
   "cell_type": "code",
   "execution_count": null,
   "id": "c440559f-3aee-406b-ab6d-b2ecdcc68634",
   "metadata": {},
   "outputs": [],
   "source": [
    "main = Main()\n",
    "main"
   ]
  },
  {
   "cell_type": "code",
   "execution_count": null,
   "id": "86cbefdc-ef86-4fb7-b43b-b08ca057b146",
   "metadata": {},
   "outputs": [],
   "source": [
    "#| hide\n",
    "import nbdev\n",
    "nbdev.nbdev_export()"
   ]
  },
  {
   "cell_type": "code",
   "execution_count": null,
   "id": "bf08947a-23a8-436e-9e58-23a759ea4cc8",
   "metadata": {},
   "outputs": [],
   "source": []
  }
 ],
 "metadata": {
  "kernelspec": {
   "display_name": "python3",
   "language": "python",
   "name": "python3"
  }
 },
 "nbformat": 4,
 "nbformat_minor": 5
}
