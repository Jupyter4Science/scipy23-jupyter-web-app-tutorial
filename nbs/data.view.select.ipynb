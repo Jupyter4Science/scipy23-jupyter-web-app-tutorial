{
 "cells": [
  {
   "cell_type": "markdown",
   "id": "16e308fb-326a-4ff6-9362-91634f62c6d4",
   "metadata": {},
   "source": [
    "# Data Selection View\n",
    "> A table view for the DataModel class"
   ]
  },
  {
   "cell_type": "code",
   "execution_count": null,
   "id": "f485c7b7-3927-428d-9cc7-d6c86e5ce11f",
   "metadata": {},
   "outputs": [],
   "source": [
    "#| default_exp data.view.select"
   ]
  },
  {
   "cell_type": "code",
   "execution_count": null,
   "id": "e1294101-ddc8-4981-8cf8-76a9023ca17a",
   "metadata": {},
   "outputs": [],
   "source": [
    "#| export\n",
    "import ipywidgets as widgets\n",
    "from jupyter_web_app_template.data.model import DataModel\n",
    "from traitlets import link, observe"
   ]
  },
  {
   "cell_type": "code",
   "execution_count": null,
   "id": "85ee132f-2a83-4a6b-8dcf-af045453eb15",
   "metadata": {},
   "outputs": [],
   "source": [
    "#| export\n",
    "class DataSelectView(widgets.VBox):\n",
    "    \n",
    "    def __init__(self):\n",
    "        super().__init__()\n",
    "        \n",
    "        style = {'description_width': 'initial'}\n",
    "        \n",
    "        SOURCES_TEXT = '''<p>\n",
    "        <b>Land-Ocean Temperature Index</b>\n",
    "        <a href=\"https://climate.nasa.gov/vital-signs/global-temperature/\"\n",
    "        target=\"_blank\">Global Temperature (NASA)</a>\n",
    "        ,\n",
    "        <a href=\"https://data.giss.nasa.gov/gistemp/\"\n",
    "        target=\"_blank\">GISS Surface Temperature Analysis (NASA)</a>\n",
    "        </p><p>\n",
    "        This site is based on data downloaded from the following site on 2020-07-14:\n",
    "        <a href=\"https://data.giss.nasa.gov/gistemp/graphs/graph_data/Global_Mean_Estimates_based_on_Land_and_Ocean_Data/graph.txt\"  # noqa\n",
    "        target=\"_blank\">Global Mean Estimates based on Land and Ocean Data (NASA)</a>\n",
    "        <br>\n",
    "        \n",
    "        '''\n",
    "        INTRO_TEXT = '''\n",
    "        <p><b>Curve Smoothing</b>\n",
    "        This tool is for smoothing and selecting land-ocean temperature data for visualization and download. Start by selecting a date\n",
    "        range, and then select the smoothing algorithm you want to use. Then click through to the next step, where you will change properies\n",
    "        of the curve smoothing algorithm you selected and visualize the data. In the final step, you may export the data you selected.\n",
    "        </p>\n",
    "        '''\n",
    "        SOURCES_TEXT = '''\n",
    "        <p>\n",
    "        <b>About Land-Ocean Temperature Data</b>\n",
    "        <a href=\"https://climate.nasa.gov/vital-signs/global-temperature/\"\n",
    "        target=\"_blank\">Global Temperature (NASA)</a>\n",
    "        ,\n",
    "        <a href=\"https://data.giss.nasa.gov/gistemp/\"\n",
    "        target=\"_blank\">GISS Surface Temperature Analysis (NASA)</a>\n",
    "        </p><p>\n",
    "        This site is based on data downloaded from the following site on 2020-07-14:\n",
    "        <a href=\"https://data.giss.nasa.gov/gistemp/graphs/graph_data/Global_Mean_Estimates_based_on_Land_and_Ocean_Data/graph.txt\"  # noqa\n",
    "        target=\"_blank\">Global Mean Estimates based on Land and Ocean Data (NASA)</a>\n",
    "        '''\n",
    "\n",
    "        self.intro_text = widgets.HTML(value = INTRO_TEXT)\n",
    "        self.data_source_text = widgets.HTML(value = SOURCES_TEXT)\n",
    "        range_layout = {'width': '400px'}\n",
    "        self.date_range = widgets.IntRangeSlider(description=\"Date Range\", style=style, layout=range_layout)\n",
    "        output_layout = {'min_height': '200px'}\n",
    "        self.df_output = widgets.Output(layout = output_layout)\n",
    "        \n",
    "        options = ['Temperature', 'EMA', 'LOWESS', 'Savitzky-Golay']\n",
    "        self.smoothing_type = widgets.Dropdown(description=\"Smoothing Type\", options = options, style=style)\n",
    "        self.next_step_btn = widgets.Button(description='Proceed', button_style='info', icon='right-arrow')\n",
    "        self.hbox = widgets.HBox(children = (self.smoothing_type, self.next_step_btn))\n",
    "\n",
    "        self.children = (self.intro_text, self.date_range, self.df_output, self.data_source_text, self.hbox)"
   ]
  },
  {
   "cell_type": "code",
   "execution_count": null,
   "id": "e84abae2-bb5a-43d7-a40e-2dc64c821209",
   "metadata": {},
   "outputs": [],
   "source": [
    "dataSelectView = DataSelectView()\n",
    "dataSelectView"
   ]
  },
  {
   "cell_type": "code",
   "execution_count": null,
   "id": "97de92a4-9b34-4682-834b-2c83e27a7134",
   "metadata": {},
   "outputs": [],
   "source": [
    "app = widgets.Tab(children = (dataSelectView, ))\n",
    "app"
   ]
  },
  {
   "cell_type": "code",
   "execution_count": null,
   "id": "e23a3a88-d60f-451f-b851-6e8d0271188a",
   "metadata": {},
   "outputs": [],
   "source": [
    "dataModel = DataModel()\n",
    "dataModel"
   ]
  },
  {
   "cell_type": "code",
   "execution_count": null,
   "id": "f3125120-b67f-456d-aca4-2cc8530f1a1e",
   "metadata": {},
   "outputs": [],
   "source": [
    "#| export\n",
    "class DataSelectDelegate(DataSelectView):\n",
    "    \n",
    "    def __init__(self, model):\n",
    "        super().__init__()\n",
    "        self.model = model\n",
    "        \n",
    "        link((self.model, 'max'), (self.date_range, 'max'))\n",
    "        link((self.model, 'min'), (self.date_range, 'min'))\n",
    "        link((self.model, 'smoothing_type'), (self.smoothing_type, 'value'))\n",
    "        self.date_range.value = (self.model.from_year, self.model.to_year) # initialize values from model\n",
    "        self.date_range.observe(self._observe_date_range, 'value') # observe changes from range widget\n",
    "    \n",
    "    def _observe_date_range(self, change):\n",
    "        if change['old'][0] != change['new'][0]: # if change occured in the first index of the tuple\n",
    "            self.model.from_year = change['new'][0]\n",
    "            self.display_df()\n",
    "        elif change['old'][1] != change['new'][1]: # else if change occured in the second index of the tuple\n",
    "            self.model.to_year = change['new'][1]\n",
    "            self.display_df()\n",
    "                                 \n",
    "    def display_df(self):\n",
    "        self.df_output.clear_output(wait=True)\n",
    "        with self.df_output: \n",
    "            display(self.model.selected)"
   ]
  },
  {
   "cell_type": "code",
   "execution_count": null,
   "id": "5c77abef-37f1-44c0-8952-f24951b281c0",
   "metadata": {},
   "outputs": [],
   "source": [
    "dataSelectDelegate = DataSelectDelegate(dataModel)\n",
    "dataSelectDelegate.display_df()\n",
    "dataSelectDelegate"
   ]
  },
  {
   "cell_type": "code",
   "execution_count": null,
   "id": "056592d4-4184-4126-9e96-0a45a557a17e",
   "metadata": {},
   "outputs": [],
   "source": [
    "dataModel.smoothing_type"
   ]
  },
  {
   "cell_type": "code",
   "execution_count": null,
   "id": "74c1e490-7159-4eef-821c-5ceaa8b272ce",
   "metadata": {},
   "outputs": [],
   "source": [
    "#| hide\n",
    "import nbdev\n",
    "nbdev.nbdev_export()"
   ]
  },
  {
   "cell_type": "code",
   "execution_count": null,
   "id": "6b10993f-bca9-4952-9683-e774f9ebebaa",
   "metadata": {},
   "outputs": [],
   "source": []
  }
 ],
 "metadata": {
  "kernelspec": {
   "display_name": "python3",
   "language": "python",
   "name": "python3"
  }
 },
 "nbformat": 4,
 "nbformat_minor": 5
}
