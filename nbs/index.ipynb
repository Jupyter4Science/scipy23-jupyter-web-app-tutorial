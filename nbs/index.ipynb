{
 "cells": [
  {
   "cell_type": "code",
   "execution_count": null,
   "metadata": {},
   "outputs": [],
   "source": [
    "#| hide\n",
    "import sys\n",
    "import nbdev\n",
    "import jupyter_web_app_template\n",
    "import ipywidgets"
   ]
  },
  {
   "cell_type": "code",
   "execution_count": null,
   "metadata": {},
   "outputs": [],
   "source": [
    "#| hide\n",
    "from jupyter_web_app_template import core"
   ]
  },
  {
   "cell_type": "markdown",
   "metadata": {},
   "source": [
    "# How the Little Jupyter Notebook Became a Web App: A Tutorial for Making Your Code and Data More Accessible and Reusable\n",
    "\n",
    "Live tutorial online and in person 29 Jun 2023 - 10:00am to 3:00pm AZ in the Life Sciences Center A on the ASU Tempe Campus. [Signup information here](https://researchacademy.asu.edu/events/2023-06-29/how-little-jupyter-notebook-became-web-app-making-your-code-and-data-more).\n",
    "\n",
    "> Are you running a research workflow from a Jupyter Notebook? \n",
    "> In this tutorial, we walk through what it takes to transform an exploratory Jupyter Notebook into a standalone data dashboard or mature web application.  Web applications can be incredibly valuable for communicating your research by making your data and code more accessible and sharable. Attendees will learn how best to design and document a scientific web application that is easier to pass along to new lab members and doesn’t turn into spaghetti as they increase in complexity."
   ]
  },
  {
   "cell_type": "markdown",
   "metadata": {},
   "source": [
    "## Prerequisites\n",
    "\n",
    "Prior exposure to ipywidgets and/or familiarity with object-oriented programming is recommended. We review the basics of ipywidgets within the first hour and quickly move on to more advanced design principles."
   ]
  },
  {
   "cell_type": "markdown",
   "metadata": {},
   "source": [
    "## Binder\n",
    "\n",
    "There are two ways to access this tutorial. You can launch these notebooks in a Binder environment by clicking the badge below. This requires not extra installation on your part. Just click the link and follow along. "
   ]
  },
  {
   "cell_type": "markdown",
   "metadata": {},
   "source": [
    "[![Binder](https://mybinder.org/badge_logo.svg)](https://mybinder.org/v2/gh/nicole-brewer/jupyter-web-app-template/HEAD)"
   ]
  },
  {
   "cell_type": "markdown",
   "metadata": {},
   "source": [
    "### How long will my Binder session last?\n",
    "\n",
    "Binder will automatically shut down user sessions that have more than 10 minutes of inactivity (if you leave a jupyterlab window open in the foreground, this will generally be counted as “activity”). Binder tries to guarentee that active sessions will last up to 6 hours.\n",
    "\n",
    "### What if my session shuts down during a break?\n",
    "\n",
    "We will start from a fresh checkpoint after every break, so if your Binder session ends, you can just restart a new session and the beginning of the next section."
   ]
  },
  {
   "cell_type": "markdown",
   "metadata": {},
   "source": [
    "If you would like to run this tutorial locally on your own computer, please follow the instructions below.\n",
    "\n",
    "## Installation Instructions\n",
    "\n",
    "1. Clone this repository with `git clone jupyter-web-app-template`\n",
    "2. If you don't have it already, you will need to [download and install Miniconda](https://conda.io/projects/conda/en/latest/user-guide/install/index.html)\n",
    "3. Run `conda env create -f environment.yml` to create a conda environment called `jupyter-web-application`\n",
    "4. Run `conda activate jupyter-web-application` to activate the conda environment\n",
    "5. Run `jupyter lab` to launch JupyterLab"
   ]
  },
  {
   "cell_type": "markdown",
   "metadata": {},
   "source": [
    "## How to use"
   ]
  },
  {
   "cell_type": "markdown",
   "metadata": {},
   "source": [
    "We will follow the notebooks in the tutorial sequentially, starting with `00_getting_started.ipynb`. We will then transition to editing notebooks in the `nbs` directory that contains a full web application. You will be instructed when to do so from the numbered notebooks."
   ]
  }
 ],
 "metadata": {
  "kernelspec": {
   "display_name": "python3",
   "language": "python",
   "name": "python3"
  }
 },
 "nbformat": 4,
 "nbformat_minor": 4
}
