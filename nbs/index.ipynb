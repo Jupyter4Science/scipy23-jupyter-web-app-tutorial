{
 "cells": [
  {
   "cell_type": "code",
   "execution_count": null,
   "metadata": {},
   "outputs": [],
   "source": [
    "#| hide\n",
    "import sys\n",
    "import nbdev\n",
    "import jupyter_web_app_template\n",
    "import ipywidgets"
   ]
  },
  {
   "cell_type": "code",
   "execution_count": null,
   "metadata": {},
   "outputs": [],
   "source": [
    "#| hide\n",
    "from jupyter_web_app_template.data.model import DataModel"
   ]
  },
  {
   "cell_type": "markdown",
   "metadata": {},
   "source": [
    "# How the Little Jupyter Notebook Became a Web App: A Tutorial for Making Your Code and Data More Accessible and Reusable\n",
    "\n",
    "> Already familiar with ipywidgets, but ready to take your skills to the next level? In this tutorial we walk through what it takes to transform an exploratory Jupyter Notebook into a mature web application. Web apps can be a valuable product of collaboration between researchers and software developers, and the packages used in this tutorial were selected to support this relationship, starting with using JupyterLab as an integrated development environment. Attendees will learn how to design and document a scientific web application that accommodates increasing complexity, but is also inheritable by the researchers who maintain them in the long run.\n",
    "\n",
    "This is a live in-perosn tutorial hosted at the SciPy2023 conference in Austin, TX. It will be held 07-10, 13:30–17:30 (America/Chicago), Classroom 104."
   ]
  },
  {
   "cell_type": "markdown",
   "metadata": {},
   "source": [
    "## Prerequisites\n",
    "\n",
    "Prior exposure to ipywidgets and/or familiarity with object-oriented programming is recommended. We review the basics of ipywidgets within the first hour and quickly move on to more advanced design principles."
   ]
  },
  {
   "cell_type": "markdown",
   "metadata": {},
   "source": [
    "## Installation Instructions\n",
    "\n",
    "There are two ways to access this tutorial. We recommend installing the environment locally with Anaconda or Miniconda, but if you experience trouble and need a quick backup, feel free to launch this tutorial with Binder."
   ]
  },
  {
   "cell_type": "markdown",
   "metadata": {},
   "source": [
    "## Local Installation\n",
    "\n",
    "If you would like to run this tutorial locally on your own computer, please follow these instructions:\n",
    "\n",
    "1. Clone this repository with `git clone jupyter-web-app-template`\n",
    "2. If you don't have it already, you will need to [download and install Miniconda](https://conda.io/projects/conda/en/latest/user-guide/install/index.html)\n",
    "3. Run `conda env create -f environment.yml` to create a conda environment called `jupyter-web-application`\n",
    "4. Run `conda activate jupyter-web-application` to activate the conda environment\n",
    "5. Run `jupyter lab` to launch JupyterLab"
   ]
  },
  {
   "cell_type": "markdown",
   "metadata": {},
   "source": [
    "## How to use"
   ]
  },
  {
   "cell_type": "markdown",
   "metadata": {},
   "source": [
    "We will follow the notebooks in the tutorial sequentially, starting with `00_getting_started.ipynb`. We will then transition to editing notebooks in the `nbs` directory that contains a full web application. You will be instructed when to do so from the numbered notebooks."
   ]
  },
  {
   "cell_type": "markdown",
   "metadata": {},
   "source": [
    "## Binder\n",
    "\n",
    "You can launch these notebooks in a Binder environment by clicking the badge below. This requires not extra installation on your part. Just click the link and follow along. "
   ]
  },
  {
   "cell_type": "markdown",
   "metadata": {},
   "source": [
    "[![Binder](https://mybinder.org/badge_logo.svg)](https://mybinder.org/v2/gh/nicole-brewer/jupyter-web-app-template/HEAD)"
   ]
  },
  {
   "cell_type": "markdown",
   "metadata": {},
   "source": [
    "### How long will my Binder session last?\n",
    "\n",
    "Binder will automatically shut down user sessions that have more than 10 minutes of inactivity (if you leave a jupyterlab window open in the foreground, this will generally be counted as “activity”). Binder tries to guarentee that active sessions will last up to 6 hours.\n",
    "\n",
    "### What if my session shuts down during a break?\n",
    "\n",
    "We will start from a fresh checkpoint after every break, so if your Binder session ends, you can just restart a new session and the beginning of the next section."
   ]
  }
 ],
 "metadata": {
  "kernelspec": {
   "display_name": "python3",
   "language": "python",
   "name": "python3"
  }
 },
 "nbformat": 4,
 "nbformat_minor": 4
}
