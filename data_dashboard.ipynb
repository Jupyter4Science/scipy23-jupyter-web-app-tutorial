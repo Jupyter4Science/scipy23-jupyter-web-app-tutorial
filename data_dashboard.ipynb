{
 "cells": [
  {
   "cell_type": "code",
   "execution_count": null,
   "id": "206be7c2-6c3c-42ce-96a3-906299b5126e",
   "metadata": {},
   "outputs": [],
   "source": [
    "import os\n",
    "import csv\n",
    "import glob\n",
    "import sys\n",
    "import pandas as pd\n",
    "from matplotlib import pyplot as plt\n",
    "import ipywidgets as widgets\n",
    "from IPython.display import FileLink"
   ]
  },
  {
   "cell_type": "code",
   "execution_count": null,
   "id": "2b4a10a3-eb90-4cb5-aa57-17452441d0f8",
   "metadata": {},
   "outputs": [],
   "source": [
    "SOURCES_TEXT = '''<p>\n",
    "<b>Land-Ocean Temperature Index</b>\n",
    "<a href=\"https://climate.nasa.gov/vital-signs/global-temperature/\"\n",
    "target=\"_blank\">Global Temperature (NASA)</a>\n",
    ",\n",
    "<a href=\"https://data.giss.nasa.gov/gistemp/\"\n",
    "target=\"_blank\">GISS Surface Temperature Analysis (NASA)</a>\n",
    "</p><p>\n",
    "This site is based on data downloaded from the following site on 2020-07-14:\n",
    "<a href=\"https://data.giss.nasa.gov/gistemp/graphs/graph_data/Global_Mean_Estimates_based_on_Land_and_Ocean_Data/graph.txt\"  # noqa\n",
    "target=\"_blank\">Global Mean Estimates based on Land and Ocean Data (NASA)</a>\n",
    "<br>\n",
    "'''\n",
    "\n",
    "sources = widgets.HTML(value = SOURCES_TEXT)\n",
    "sources"
   ]
  },
  {
   "cell_type": "code",
   "execution_count": null,
   "id": "b931625a-e280-441f-a049-57b2af25dec0",
   "metadata": {},
   "outputs": [],
   "source": [
    "def upload_df_from_file(path):\n",
    "    return pd.read_csv(path, escapechar='#')"
   ]
  },
  {
   "cell_type": "code",
   "execution_count": null,
   "id": "a2af6d66-2c45-458c-a6f8-0fac84147fb6",
   "metadata": {},
   "outputs": [],
   "source": [
    "UPLOAD_PATH = 'data/land-ocean-temp-index.csv'\n",
    "df = upload_df_from_file(UPLOAD_PATH)"
   ]
  },
  {
   "cell_type": "code",
   "execution_count": null,
   "id": "3de1ee71-e84c-4ccc-8d97-5bc45fc758b8",
   "metadata": {},
   "outputs": [],
   "source": [
    "df_output = widgets.Output()"
   ]
  },
  {
   "cell_type": "code",
   "execution_count": null,
   "id": "ed635dfd-0015-4e10-a685-2a4546a69efa",
   "metadata": {},
   "outputs": [],
   "source": [
    "#df_output"
   ]
  },
  {
   "cell_type": "code",
   "execution_count": null,
   "id": "675badbc-472e-48eb-aa1f-752a7a7fc4a8",
   "metadata": {},
   "outputs": [],
   "source": [
    "# right click on df_output\n",
    "# select \"Create New View for Output\""
   ]
  },
  {
   "cell_type": "code",
   "execution_count": null,
   "id": "272868ba-047b-4d82-9429-af6ff08bc76f",
   "metadata": {},
   "outputs": [],
   "source": [
    "def display_df(df):\n",
    "    df_output.clear_output(wait=True)\n",
    "    with df_output: \n",
    "        display(df)\n",
    "        \n",
    "#display_df(df)"
   ]
  },
  {
   "cell_type": "code",
   "execution_count": null,
   "id": "31efc379-1b30-4eb1-85b4-d9568ce116ab",
   "metadata": {},
   "outputs": [],
   "source": [
    "plot_output = widgets.Output()"
   ]
  },
  {
   "cell_type": "code",
   "execution_count": null,
   "id": "252ae94f-b874-40d8-a7dd-362960073833",
   "metadata": {},
   "outputs": [],
   "source": [
    "# plot_output"
   ]
  },
  {
   "cell_type": "code",
   "execution_count": null,
   "id": "2a285d62-fcf4-4b07-afe5-871c85ad08a0",
   "metadata": {},
   "outputs": [],
   "source": [
    "# again, \"Create New View for Output\""
   ]
  },
  {
   "cell_type": "code",
   "execution_count": null,
   "id": "cb247aba-998d-4614-bb3a-dae9b5816d34",
   "metadata": {},
   "outputs": [],
   "source": [
    "def display_plot(df):\n",
    "    plot_output.clear_output(wait=True)\n",
    "    with plot_output:\n",
    "        plt.xlabel('Year')\n",
    "        plt.ylabel('Temperature')\n",
    "        plt.plot(df['Year'], df['Temperature'])\n",
    "        if 'EMA' in df:\n",
    "            plt.plot(df['Year'], df['EMA'])\n",
    "        plt.show()"
   ]
  },
  {
   "cell_type": "code",
   "execution_count": null,
   "id": "448bac20-a51d-4999-9d6b-dadf01171933",
   "metadata": {},
   "outputs": [],
   "source": [
    "#display_plot(df)"
   ]
  },
  {
   "cell_type": "code",
   "execution_count": null,
   "id": "b48717bf-cef9-466c-8306-e850433dcb5f",
   "metadata": {},
   "outputs": [],
   "source": [
    "def add_or_update_EMA_column(df, ema_span=2):\n",
    "    df['EMA'] = df['Temperature'].ewm(span=ema_span, adjust=False).mean()"
   ]
  },
  {
   "cell_type": "code",
   "execution_count": null,
   "id": "8015686c-ec6a-4c93-8af8-2b706a406a2e",
   "metadata": {},
   "outputs": [],
   "source": [
    "add_or_update_EMA_column(df)"
   ]
  },
  {
   "cell_type": "code",
   "execution_count": null,
   "id": "72181547-7dd8-48c9-b560-31469bea22f6",
   "metadata": {},
   "outputs": [],
   "source": [
    "main_hbox = widgets.HBox(children = (df_output, plot_output))\n",
    "display_df(df)\n",
    "display_plot(df)\n",
    "main_hbox"
   ]
  },
  {
   "cell_type": "code",
   "execution_count": null,
   "id": "863d3ceb-26c6-49f2-9a13-f9a7b86bb0d2",
   "metadata": {},
   "outputs": [],
   "source": [
    "def on_ema_span_change(change):\n",
    "    add_or_update_EMA_column(df, change['new'])\n",
    "    display_df(df)\n",
    "    display_plot(df)\n",
    "    \n",
    "ema_slider = widgets.IntSlider(min=1, max=7, description='EMA Span')\n",
    "ema_slider.observe(on_ema_span_change, names='value')"
   ]
  },
  {
   "cell_type": "code",
   "execution_count": null,
   "id": "06a55c87-014b-4a8b-a33d-1fcb317331c2",
   "metadata": {},
   "outputs": [],
   "source": [
    "#ema_slider"
   ]
  },
  {
   "cell_type": "code",
   "execution_count": null,
   "id": "79ca2e04-9042-4d21-8eed-669903ccb439",
   "metadata": {},
   "outputs": [],
   "source": [
    "DOWNLOAD_PATH = 'data/output_data.csv'\n",
    "\n",
    "def create_output_file(df, path):\n",
    "    \"\"\"Prep data for export.\"\"\"\n",
    "\n",
    "    df.to_csv(path, index=False, quoting=csv.QUOTE_NONNUMERIC)"
   ]
  },
  {
   "cell_type": "code",
   "execution_count": null,
   "id": "d736735e-73b6-4896-bb05-03a4c8cb0bcf",
   "metadata": {},
   "outputs": [],
   "source": [
    "# Reproducibility concerns. How to track what\n",
    "# parameters where used to create the dataset.\n",
    "# Filenames?"
   ]
  },
  {
   "cell_type": "code",
   "execution_count": null,
   "id": "7849644b-4e8f-43c0-8519-e2b119e29c26",
   "metadata": {},
   "outputs": [],
   "source": [
    "download_button = widgets.Button(description = 'Download', button_style='info')\n",
    "file_link_output = widgets.Output()\n",
    "download_hbox = widgets.HBox(children = (ema_slider, download_button, file_link_output))\n",
    "download_hbox"
   ]
  },
  {
   "cell_type": "code",
   "execution_count": null,
   "id": "a308b6f3-63fd-4397-b27b-1e7b91f65a6b",
   "metadata": {},
   "outputs": [],
   "source": [
    "# NOTE: if you click the link here, the file will \n",
    "# open up in a JupyterLab. If you try and use the same\n",
    "# link in the Voila Preview, it won't work because JupyterLab\n",
    "# isn't configured with the settings to allow it. However\n",
    "# if you are running the web app outside JupyterLab with \n",
    "# Voila, you can whitelist any filename with a configuration\n",
    "# setting to allow for download.\n",
    "#\n",
    "# $ voila data_dashboard.ipynb --VoilaConfiguration.file_whitelist=\"['*.csv']\"\n",
    "# \n",
    "# For more, see https://github.com/voila-dashboards/voila/issues/560"
   ]
  },
  {
   "cell_type": "code",
   "execution_count": null,
   "id": "2e8a71f7-f67b-497a-8b8f-1112a431970c",
   "metadata": {},
   "outputs": [],
   "source": [
    "def on_download_button_click(b):\n",
    "    create_output_file(df, DOWNLOAD_PATH)\n",
    "    file_link_output.clear_output(wait=True)\n",
    "    with file_link_output:\n",
    "        display(FileLink(DOWNLOAD_PATH, result_html_prefix=\"Click here to save file: \"))\n",
    "        \n",
    "download_button.on_click(on_download_button_click)"
   ]
  },
  {
   "cell_type": "code",
   "execution_count": null,
   "id": "3061daa9-6cce-451d-895a-bc45358bd91f",
   "metadata": {},
   "outputs": [],
   "source": [
    "# We are already starting to see how our development\n",
    "# could benefit from literate programming. It would be\n",
    "# nice it we could leave in visualizations that just \n",
    "# get ignored by the final product. This is one of \n",
    "# the benefits of Panel, which is more \"literate\" by \n",
    "# design. ipywidgets doesn't have this feature. \n",
    "# We can us the Output View to help with this, but "
   ]
  },
  {
   "cell_type": "code",
   "execution_count": null,
   "id": "c41b5efb-9a39-4132-8267-d786cac7da80",
   "metadata": {},
   "outputs": [],
   "source": [
    "# What is good about this approach\n",
    "\n",
    "# 1. I didn't take long because we used code we already had\n",
    "# 2. It works\n",
    "\n",
    "# What we could improve about the approach\n",
    "# 1. We have to delete or copy-paste cells that we used in intermediate steps\n",
    "# 2. We have to leave our comments as just that - comments\n",
    "#    in code cells instead of markdown\n",
    "# 3. The Output widgets flash when EMA Span changes. Whats\n",
    "#    worse is that the \n",
    "\n",
    "# What approaches could we take from here?\n",
    "# 1. We could start offloading our code into Python files\n",
    "#    but that still doesn't avoid the problem of copy-pasting\n",
    "#    because we still want to see how visual components work \n",
    "#    in intermediate steps in the notebook\n",
    "# 2. "
   ]
  },
  {
   "cell_type": "code",
   "execution_count": null,
   "id": "e6e63c73-fafe-4222-a9e4-a8673ce426cd",
   "metadata": {},
   "outputs": [],
   "source": []
  }
 ],
 "metadata": {
  "kernelspec": {
   "display_name": "python3",
   "language": "python",
   "name": "python3"
  }
 },
 "nbformat": 4,
 "nbformat_minor": 5
}
