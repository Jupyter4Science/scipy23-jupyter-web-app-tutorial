{
 "cells": [
  {
   "cell_type": "code",
   "execution_count": null,
   "id": "48c0a6fd-def1-4a9b-8611-b60cfdd46481",
   "metadata": {},
   "outputs": [],
   "source": [
    "from dashboard.widgets import year_range, selected_data_output, window_size, poly_order, plot_output"
   ]
  },
  {
   "cell_type": "code",
   "execution_count": null,
   "id": "1794443a-4f05-4f42-8f6b-3d5c25f44daf",
   "metadata": {},
   "outputs": [],
   "source": [
    "year_range"
   ]
  },
  {
   "cell_type": "code",
   "execution_count": null,
   "id": "396635f0-8b12-4162-b026-bc3455cd5789",
   "metadata": {},
   "outputs": [],
   "source": [
    "selected_data_output"
   ]
  },
  {
   "cell_type": "code",
   "execution_count": null,
   "id": "61b0b61c-f3e2-4411-a0fd-1ab869e7966c",
   "metadata": {},
   "outputs": [],
   "source": [
    "window_size"
   ]
  },
  {
   "cell_type": "code",
   "execution_count": null,
   "id": "70ad9a20-d55d-45b5-ad43-6c3bcd3f5754",
   "metadata": {},
   "outputs": [],
   "source": [
    "poly_order"
   ]
  },
  {
   "cell_type": "code",
   "execution_count": null,
   "id": "9c4ac9e6-4edf-4c9c-aaee-5a50213b486b",
   "metadata": {},
   "outputs": [],
   "source": [
    "plot_output"
   ]
  }
 ],
 "metadata": {
  "kernelspec": {
   "display_name": "python3",
   "language": "python",
   "name": "python3"
  }
 },
 "nbformat": 4,
 "nbformat_minor": 5
}
