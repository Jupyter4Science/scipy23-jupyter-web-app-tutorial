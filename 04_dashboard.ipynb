{
 "cells": [
  {
   "cell_type": "code",
   "execution_count": null,
   "id": "00afb8b7-a130-4d5c-a256-609fa9abfe75",
   "metadata": {},
   "outputs": [],
   "source": [
    "import pandas as pd\n",
    "import os\n",
    "import ipywidgets as widgets # add import statement\n",
    "from matplotlib import pyplot as plt\n",
    "from scipy.signal import savgol_filter"
   ]
  },
  {
   "cell_type": "code",
   "execution_count": null,
   "id": "d8dab293-3f70-4927-b142-ff468bde81f2",
   "metadata": {},
   "outputs": [],
   "source": [
    "INTRO_TEXT = '''\n",
    "<p><b>Curve Smoothing</b>\n",
    "This tool is for smoothing and selecting land-ocean temperature data for visualization and download. Start by selecting a date\n",
    "range, and then select the smoothing algorithm you want to use. Then click through to the next step, where you will change properies\n",
    "of the curve smoothing algorithm you selected and visualize the data. In the final step, you may export the data you selected.\n",
    "</p>\n",
    "'''\n",
    "SOURCES_TEXT = '''\n",
    "<p>\n",
    "<b>About Land-Ocean Temperature Data</b>\n",
    "<a href=\"https://climate.nasa.gov/vital-signs/global-temperature/\"\n",
    "target=\"_blank\">Global Temperature (NASA)</a>\n",
    ",\n",
    "<a href=\"https://data.giss.nasa.gov/gistemp/\"\n",
    "target=\"_blank\">GISS Surface Temperature Analysis (NASA)</a>\n",
    "</p><p>\n",
    "This site is based on data downloaded from the following site on 2020-07-14:\n",
    "<a href=\"https://data.giss.nasa.gov/gistemp/graphs/graph_data/Global_Mean_Estimates_based_on_Land_and_Ocean_Data/graph.txt\"  # noqa\n",
    "target=\"_blank\">Global Mean Estimates based on Land and Ocean Data (NASA)</a>\n",
    "'''\n",
    "        \n",
    "intro_text = widgets.HTML(value = INTRO_TEXT)\n",
    "data_source_text = widgets.HTML(value = SOURCES_TEXT)"
   ]
  },
  {
   "cell_type": "code",
   "execution_count": null,
   "id": "167283d0-cca3-4905-88e2-e49878e395f2",
   "metadata": {},
   "outputs": [],
   "source": [
    "intro_text"
   ]
  },
  {
   "cell_type": "code",
   "execution_count": null,
   "id": "695c2153-6fd0-4c83-b9ab-4ef1f3da0ce0",
   "metadata": {},
   "outputs": [],
   "source": [
    "data_source_text"
   ]
  },
  {
   "cell_type": "code",
   "execution_count": null,
   "id": "f2f85bd0-b02d-4951-b431-c753175f439b",
   "metadata": {},
   "outputs": [],
   "source": [
    "# Load data into memory from file\n",
    "DATA_DIR = 'data'\n",
    "DATA_FILE = 'land-ocean-temp-index.csv'\n",
    "\n",
    "df = pd.read_csv(os.path.join(DATA_DIR, DATA_FILE), escapechar='#')"
   ]
  },
  {
   "cell_type": "code",
   "execution_count": null,
   "id": "81c53a08-bd2b-440d-a5e6-8e6add2e5808",
   "metadata": {},
   "outputs": [],
   "source": [
    "slider = widgets.IntRangeSlider()\n",
    "slider.max = max(df['Year']) # set the 'max' attribute of the slider to the minimum year of the our data  \n",
    "slider.min = min(df['Year']) #   and let's do the same for 'min'"
   ]
  },
  {
   "cell_type": "code",
   "execution_count": null,
   "id": "d1fa9d52-1205-4fc7-bd35-59f336f2347d",
   "metadata": {},
   "outputs": [],
   "source": [
    "output_df = widgets.Output()"
   ]
  },
  {
   "cell_type": "code",
   "execution_count": null,
   "id": "f85b818f-c7c2-4ea6-bc2a-411c1f721273",
   "metadata": {},
   "outputs": [],
   "source": [
    "window_size = widgets.IntSlider(description = 'Window Size', min=1, max=100)\n",
    "poly_order = widgets.IntSlider(description = 'Poly Order', min=0, max=10)"
   ]
  },
  {
   "cell_type": "code",
   "execution_count": null,
   "id": "5cdcc014-e707-4d2f-bc64-339b14b9d36d",
   "metadata": {},
   "outputs": [],
   "source": [
    "output_plot = widgets.Output() # create an output widget called output_plot"
   ]
  },
  {
   "cell_type": "code",
   "execution_count": null,
   "id": "fbe0091b-51d5-4e39-9457-9491d8767c78",
   "metadata": {},
   "outputs": [],
   "source": [
    "def on_slider_change(change):\n",
    "    global selected # selected\n",
    "    selected = df[(df['Year'] >= change['new'][0]) & (df['Year'] <= change['new'][1])]"
   ]
  },
  {
   "cell_type": "code",
   "execution_count": null,
   "id": "4daa8c46-e43e-47ca-be8c-da9ef02876a8",
   "metadata": {},
   "outputs": [],
   "source": [
    "def display_df(change): \n",
    "    output_df.clear_output(wait=True)\n",
    "    with output_df: \n",
    "        display(selected)"
   ]
  },
  {
   "cell_type": "code",
   "execution_count": null,
   "id": "1a9507c6-6daf-49bd-847e-2b7dbbb47462",
   "metadata": {},
   "outputs": [],
   "source": [
    "def on_poly_order_change(change):\n",
    "    global df, selected\n",
    "    df['Savitzky-Golay'] = savgol_filter(df['Temperature'], window_size.value, change['new']) #df['Savitzky-Golay'] = savgol_filter(df['Temperature'], window_size, poly_order)\n",
    "    selected = df[(df['Year'] >= slider.value[0]) & (df['Year'] <= slider.value[1])]"
   ]
  },
  {
   "cell_type": "code",
   "execution_count": null,
   "id": "ac112720-885f-4b10-969a-413555aec583",
   "metadata": {},
   "outputs": [],
   "source": [
    "def on_window_size_change(change):\n",
    "    global df, selected, poly_order\n",
    "    poly_order.max = min(change['new'] - 1, 10) # change the maximum of the poly_order widget\n",
    "    df['Savitzky-Golay'] = savgol_filter(df['Temperature'], change['new'], poly_order.value)\n",
    "    selected = df[(df['Year'] >= slider.value[0]) & (df['Year'] <= slider.value[1])]"
   ]
  },
  {
   "cell_type": "code",
   "execution_count": null,
   "id": "7d3d1334-4843-4811-9729-d63e90c6c3ce",
   "metadata": {},
   "outputs": [],
   "source": [
    "def display_plot(change): #def display_df(change): \n",
    "    output_plot.clear_output(wait=True) #output_df.clear_output(wait=True)\n",
    "    with output_plot: \n",
    "        plt.xlabel('Year') # display(selected)\n",
    "        plt.ylabel('Temperature') #\n",
    "        plt.plot(selected['Year'], selected['Temperature']) #\n",
    "        plt.plot(selected['Year'], selected['Savitzky-Golay']) # \n",
    "        plt.show() #"
   ]
  },
  {
   "cell_type": "code",
   "execution_count": null,
   "id": "b274d87f-1458-4543-a18d-e329941e1898",
   "metadata": {},
   "outputs": [],
   "source": [
    "slider.observe(on_slider_change, 'value')\n",
    "slider.observe(display_df, 'value')"
   ]
  },
  {
   "cell_type": "code",
   "execution_count": null,
   "id": "d03fe3d6-640b-427c-a589-08be1306c35d",
   "metadata": {},
   "outputs": [],
   "source": [
    "poly_order.observe(on_poly_order_change, 'value')\n",
    "poly_order.observe(display_df, 'value')"
   ]
  },
  {
   "cell_type": "code",
   "execution_count": null,
   "id": "b0f35b97-e1f7-4725-9043-ffd4feab0cc1",
   "metadata": {},
   "outputs": [],
   "source": [
    "window_size.observe(on_window_size_change, 'value')\n",
    "window_size.observe(display_df, 'value')"
   ]
  },
  {
   "cell_type": "code",
   "execution_count": null,
   "id": "7c3bcd8f-2557-4ef9-b1b9-f143771760b6",
   "metadata": {},
   "outputs": [],
   "source": []
  },
  {
   "cell_type": "code",
   "execution_count": null,
   "id": "12efb15a-20f2-48be-b2d7-f8cc00e86633",
   "metadata": {},
   "outputs": [],
   "source": [
    "slider.value = (1890, 2000)\n",
    "slider"
   ]
  },
  {
   "cell_type": "code",
   "execution_count": null,
   "id": "70e9e751-4b08-4e6a-bc72-c581e7d8bf82",
   "metadata": {},
   "outputs": [],
   "source": [
    "output_df"
   ]
  },
  {
   "cell_type": "code",
   "execution_count": null,
   "id": "9b3cc630-d464-4989-9a84-8d483cc71d04",
   "metadata": {},
   "outputs": [],
   "source": [
    "window_size.value = 20\n",
    "window_size"
   ]
  },
  {
   "cell_type": "code",
   "execution_count": null,
   "id": "50313046-7b51-4bfd-a159-92d048cede67",
   "metadata": {},
   "outputs": [],
   "source": [
    "poly_order.value = 3\n",
    "poly_order"
   ]
  },
  {
   "cell_type": "code",
   "execution_count": null,
   "id": "9359b68a-9e8f-4fae-99ec-ba5346f56d60",
   "metadata": {},
   "outputs": [],
   "source": [
    "slider.observe(display_plot, 'value')\n",
    "window_size.observe(display_plot, 'value')\n",
    "poly_order.observe(display_plot, 'value')"
   ]
  },
  {
   "cell_type": "code",
   "execution_count": null,
   "id": "aeb1b1a3-2971-4e42-80f0-0bf583311ce2",
   "metadata": {},
   "outputs": [],
   "source": [
    "display_plot(None)\n",
    "output_plot"
   ]
  },
  {
   "cell_type": "code",
   "execution_count": null,
   "id": "73b7f840-516a-4b2a-912b-2dd6d7642d7c",
   "metadata": {},
   "outputs": [],
   "source": []
  }
 ],
 "metadata": {
  "kernelspec": {
   "display_name": "python3",
   "language": "python",
   "name": "python3"
  }
 },
 "nbformat": 4,
 "nbformat_minor": 5
}
