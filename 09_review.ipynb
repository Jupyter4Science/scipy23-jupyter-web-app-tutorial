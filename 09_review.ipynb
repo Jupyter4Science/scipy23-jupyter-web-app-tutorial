{
 "cells": [
  {
   "cell_type": "markdown",
   "id": "f52038f5-5ad7-4be6-a18c-341fef59ba61",
   "metadata": {},
   "source": [
    "# Review"
   ]
  },
  {
   "cell_type": "markdown",
   "id": "bdf2d124-4a7f-4116-ae7b-de70b021f03b",
   "metadata": {},
   "source": [
    "We've covered a lot! First lets open the final version of our dashboard with Voila. I think it looks great!"
   ]
  },
  {
   "cell_type": "code",
   "execution_count": null,
   "id": "c98a3761-5c8c-4aef-81ec-803f1665f5a0",
   "metadata": {},
   "outputs": [],
   "source": [
    "%%bash\n",
    "voila 08_dashboard.ipynb"
   ]
  },
  {
   "cell_type": "markdown",
   "id": "a9766389-3fc1-46e5-ae85-7646c30147a9",
   "metadata": {},
   "source": [
    "Let's do some review."
   ]
  },
  {
   "cell_type": "markdown",
   "id": "9c101fe1-3a25-480b-9c46-7acc1b9481a3",
   "metadata": {},
   "source": [
    "- Installing environment\n",
    "- Getting started: JupyterLab and ipywidgets\n",
    "    - Benefits of developing in Jupyter\n",
    "    - Benefits of JupyterLab\n",
    "      - File browser\n",
    "      - Output view\n",
    "      - Click-and-drag windows\n",
    "    - ipywidgets\n",
    "      - Bi-directional communication\n",
    "      - Trait validation\n",
    "      - Observing trait changes\n",
    "    - Preview of dashboard\n",
    "- workflow: Get familiar with a scientific workflow\n",
    "    - Plot original data\n",
    "    - Add column for Savitzky-Golay filter\n",
    "    - Select a range of data\n",
    "    - Plot selected data with smoothed curve\n",
    "- nbdev: Use nbdev to export notebook cells to python modules\n",
    "    - `default_exp` directive\n",
    "    - `export` directive\n",
    "    - `nb_export` function\n",
    "- dashboarding: use ipywidgets and nbdev to create the beginnings of a dashboard\n",
    "    - observing traits\n",
    "    - output widgets\n",
    "- publishing: use Binder and Voila to publish your application\n",
    "- layouts: styling and arranging widgets"
   ]
  },
  {
   "cell_type": "markdown",
   "id": "c28e81b2-73de-4308-bdba-845287f7eef7",
   "metadata": {},
   "source": [
    "## More about nbdev\n",
    "\n",
    "We covered the basic idea of nbdev, but we didn't use it in the context of creating a publishable package. Here are some of the features that make nbdev great!\n",
    "\n",
    "- nbdev_export: build your library\n",
    "- nbdev_clean: clean up things like execution count from your notebooks for clean diffs\n",
    "- nbdev_merge: merge notebooks *from the notebook*\n",
    "- nbdev_test: check that all assertion statements pass\n",
    "- [passive documentation](https://fastai.github.io/nbdev-hello-world) (maybe not as useful for a web app)\n",
    "- `nbdev.release` provides utlities for easy packaging on PyPI, conda, and GitHub"
   ]
  },
  {
   "cell_type": "code",
   "execution_count": null,
   "id": "40df8fa2-ecff-44f2-85fc-73444e504527",
   "metadata": {},
   "outputs": [],
   "source": []
  }
 ],
 "metadata": {
  "kernelspec": {
   "display_name": "python3",
   "language": "python",
   "name": "python3"
  }
 },
 "nbformat": 4,
 "nbformat_minor": 5
}
