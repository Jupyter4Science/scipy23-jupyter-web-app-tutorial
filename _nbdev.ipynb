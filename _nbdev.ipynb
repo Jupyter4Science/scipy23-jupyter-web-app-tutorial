{
 "cells": [
  {
   "cell_type": "markdown",
   "id": "a55fea8a-ca20-4dcf-a452-67cae672b555",
   "metadata": {},
   "source": [
    "# nbdev"
   ]
  },
  {
   "cell_type": "markdown",
   "id": "808130cf-0f9b-41d0-b1ea-31e23236fd54",
   "metadata": {},
   "source": [
    "## What is nbdev?\n",
    "\n",
    "nbdev is a notebook-driven development platform. Simply write notebooks with lightweight markup and get high-quality documentation, tests, continuous integration, and packaging"
   ]
  },
  {
   "cell_type": "markdown",
   "id": "70d31e2b-05fa-47f5-86b2-efdb781361ba",
   "metadata": {},
   "source": [
    "## What will we learn in this notebook?\n",
    "\n",
    "`nbdev` sounds pretty cool, but there's also a lot going on there. Maybe you haven't even heard of continuous integration before. In this notebook we will go over how to use modular nbdev to create a python module. This is a much less complex introduction than the nbdev end-to-end walkthrough, because we won't create a whole package that can be uploaded to PyPi or Anaconda. We will simply use notebooks to create clean python modules that we can use to build our dashboards and web apps. \n",
    "\n",
    "\n",
    "## Export code to modules with nb_export\n",
    "- `#| export` directive to signal that a cell is to be exported\n",
    "- `#| default_exp` directive to signal the module to export to\n",
    "- `nbdev.export.nb_export` with the name of the notebook and export director\n",
    "\n",
    "### End Goal\n",
    "\n",
    "The end goal of this tutorial notebook is to use some of the cells in this notebook to create a python module that we can import to other notebooks. Let's say we want to create a helper function that prints all the traits and trait values of a widget."
   ]
  },
  {
   "cell_type": "code",
   "execution_count": null,
   "id": "5ed4a222-2d19-471c-91fc-ee6077f56ee9",
   "metadata": {},
   "outputs": [],
   "source": [
    "import ipywidgets as widgets\n",
    "\n",
    "object_has_traits = widgets.IntSlider(description='Pick a Number')\n",
    "object_has_traits"
   ]
  },
  {
   "cell_type": "markdown",
   "id": "61930a29-6cd0-4f2f-bcf0-55f5b588775f",
   "metadata": {},
   "source": [
    "Okay, we want to make a function that prints out the traits belonging to this widget. We can use the `traits()` function to do so."
   ]
  },
  {
   "cell_type": "code",
   "execution_count": null,
   "id": "0e5593c7-6aae-4216-a0ac-380b49932f70",
   "metadata": {},
   "outputs": [],
   "source": [
    "trait_names = object_has_traits.trait_names()\n",
    "trait_names"
   ]
  },
  {
   "cell_type": "markdown",
   "id": "0deda760-6195-4275-a923-2afa910601be",
   "metadata": {},
   "source": [
    "This looks interesting, but there's a lot of stuff there, especially with underscores, that we aren't intereted in. Let's get rid of those."
   ]
  },
  {
   "cell_type": "code",
   "execution_count": null,
   "id": "74d50fe5-c2fe-4b7b-9b23-7fdca2a97743",
   "metadata": {},
   "outputs": [],
   "source": [
    "trait_names = [name for name in trait_names if not name.startswith('_')]\n",
    "trait_names"
   ]
  },
  {
   "cell_type": "markdown",
   "id": "b235a91e-7501-425d-a104-b18bf8e04c90",
   "metadata": {},
   "source": [
    "There are a few others in there we might to filter out before printing. \n"
   ]
  },
  {
   "cell_type": "code",
   "execution_count": null,
   "id": "c1379bf7-8229-44df-9726-ae05da1ffe52",
   "metadata": {},
   "outputs": [],
   "source": [
    "exclude = ['comm', 'log', 'keys']\n",
    "trait_names = [name for name in trait_names if name not in exclude]\n",
    "trait_names"
   ]
  },
  {
   "cell_type": "markdown",
   "id": "fc1884a9-d283-456c-b0fa-3a4f0270c07b",
   "metadata": {},
   "source": [
    "Now let's print the trait values alongside the corresponding keys."
   ]
  },
  {
   "cell_type": "code",
   "execution_count": null,
   "id": "db9de2ca-35f0-4f83-a904-6148de502188",
   "metadata": {},
   "outputs": [],
   "source": [
    "traits = {key: getattr(object_has_traits, key) for key in trait_names if object_has_traits.trait_has_value(key)}\n",
    "traits"
   ]
  },
  {
   "cell_type": "markdown",
   "id": "b13a6681-dd6d-4161-ac69-22ed1bc9be37",
   "metadata": {},
   "source": [
    "Looks pretty good! Let's turn that into a function.\n",
    "\n",
    "## #| export\n",
    "\n",
    "Notice the `#| export` statement at the top of cell below. This tells nbdev that we want to export this code to a clean python file. "
   ]
  },
  {
   "cell_type": "code",
   "execution_count": null,
   "id": "beb25acf-7803-450a-9928-5105e76b02fb",
   "metadata": {},
   "outputs": [],
   "source": [
    "#| export\n",
    "import pprint\n",
    "\n",
    "def pprint_traits(has_traits):\n",
    "    trait_names = object_has_traits.trait_names()\n",
    "    trait_names = [name for name in trait_names if not name.startswith('_')]\n",
    "    exclude = ['comm', 'log', 'keys']\n",
    "    trait_names = [name for name in trait_names if name not in exclude]\n",
    "    traits = {key: getattr(object_has_traits, key) for key in trait_names if object_has_traits.trait_has_value(key)}\n",
    "    pprint.pprint(traits)"
   ]
  },
  {
   "cell_type": "code",
   "execution_count": null,
   "id": "8eef6e02-4108-48d4-a921-6d3c213406c9",
   "metadata": {},
   "outputs": [],
   "source": [
    "pprint_traits(object_has_traits)"
   ]
  },
  {
   "cell_type": "markdown",
   "id": "f9f1341d-d52e-4e12-a293-a3e510bb8a71",
   "metadata": {},
   "source": [
    "Looks good! Let's use `nbdev` to export this function to a python file. \n",
    "\n",
    "## #| default_exp\n",
    "This requires that we add a default export directive to our notebook. It tells nbdev what file to export to."
   ]
  },
  {
   "cell_type": "code",
   "execution_count": null,
   "id": "7b50fd17-4b7a-4cc2-87d9-4d139259dc2a",
   "metadata": {},
   "outputs": [],
   "source": [
    "#| default_exp helpers"
   ]
  },
  {
   "cell_type": "markdown",
   "id": "9c7ecc7a-0058-4d2f-be99-0d50a6fe0519",
   "metadata": {},
   "source": [
    "Usually we put this at the top of our notebook, but we can leave it here for now. \n",
    "\n",
    "## nb_export\n",
    "\n",
    "Next we can use the nb_export function to compile the exported cells into a python file. The second parameter tells nbdev that the python file is going in the dashboard directory."
   ]
  },
  {
   "cell_type": "code",
   "execution_count": null,
   "id": "0b8b5029-0636-4dda-ae11-d5641450ec35",
   "metadata": {},
   "outputs": [],
   "source": [
    "from nbdev.export import nb_export\n",
    "\n",
    "nb_export('_nbdev.ipynb', 'dashboard')\n",
    "nb_export('_nbdev.ipynb', '.dashboard_key')"
   ]
  },
  {
   "cell_type": "markdown",
   "id": "72d3d366-c995-4e87-9db0-5eb02ba04142",
   "metadata": {},
   "source": [
    "Given this information, where do you think the code will be exported? Modify the load function with your guess."
   ]
  },
  {
   "cell_type": "code",
   "execution_count": null,
   "id": "3a56bb17-3345-402e-9f99-4d295048ed85",
   "metadata": {},
   "outputs": [],
   "source": [
    "%load dashboard/helpers.py # load path/to/file.py"
   ]
  },
  {
   "cell_type": "markdown",
   "id": "4ef6b07d-1023-48ec-bdb6-879d1c7d216d",
   "metadata": {},
   "source": [
    "There are a few thing to notice here. One is that we get a warning about this file being autogenerated. That is, if we make changes to `dashboard/herlpers.py`, those changes will be overwritten the next time we export `../_nbdev.ipynb`.\n",
    "\n",
    "The second thing to notice is that there is a handy comment to tell us where the code came from. `# %% ../_nbdev.ipynb 13` tells us that the code came from the 13th code cell. "
   ]
  },
  {
   "cell_type": "markdown",
   "id": "a7a42e2c-1d26-4771-8380-f05d1446cccc",
   "metadata": {},
   "source": [
    "Another way to verify that this worked is to import the function we just wrote to the python file. Can you guess what that import statement would look like?"
   ]
  },
  {
   "cell_type": "code",
   "execution_count": null,
   "id": "f11f776a-495c-4035-9dd6-d52bf64af0e0",
   "metadata": {},
   "outputs": [],
   "source": [
    "from dashboard.helpers import pprint_traits # import the function we just wrote"
   ]
  },
  {
   "cell_type": "markdown",
   "id": "de626c60-1a66-4e28-9285-3cf779b7dbee",
   "metadata": {},
   "source": [
    "Great job! Now we know the basic idea of what nbdev does.\n",
    "\n",
    "## Literate Programming\n",
    "\n",
    "Of course, nbdev has a lot of other nice features, but the notebook export is the core of literate programming. You can do your work incrementally, leave in a lot of markdown, and read your code like a book. At the same time, you can keep the code in clean, importable python files. "
   ]
  },
  {
   "cell_type": "code",
   "execution_count": null,
   "id": "592d35fa-8013-454b-8d4e-23fbd5656fce",
   "metadata": {},
   "outputs": [],
   "source": []
  }
 ],
 "metadata": {
  "kernelspec": {
   "display_name": "python3",
   "language": "python",
   "name": "python3"
  }
 },
 "nbformat": 4,
 "nbformat_minor": 5
}
