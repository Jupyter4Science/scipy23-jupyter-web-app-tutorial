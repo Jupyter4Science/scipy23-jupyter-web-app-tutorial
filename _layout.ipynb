{
 "cells": [
  {
   "cell_type": "markdown",
   "id": "775f9b1e-8921-4517-8feb-5fcb5e69d57a",
   "metadata": {},
   "source": [
    "## Dashboard Layout"
   ]
  },
  {
   "cell_type": "markdown",
   "id": "91f96da3-1429-4c17-a340-2a6c9fedb1b1",
   "metadata": {},
   "source": [
    "Let's start by importing all the widgets we created last time."
   ]
  },
  {
   "cell_type": "code",
   "execution_count": null,
   "id": "64976af5-ae30-4198-bf7e-aba4531bc40e",
   "metadata": {},
   "outputs": [
    {
     "name": "stdout",
     "output_type": "stream",
     "text": [
      "Exception reporting mode: Minimal\n"
     ]
    }
   ],
   "source": [
    "%xmode Minimal"
   ]
  },
  {
   "cell_type": "code",
   "execution_count": null,
   "id": "88e92874-4371-4342-9658-41fdaa1ecfe6",
   "metadata": {},
   "outputs": [],
   "source": [
    "#| export\n",
    "import ipywidgets as widgets\n",
    "from dashboard.widgets import year_range, poly_order, window_size, plot_output, selected_data_output"
   ]
  },
  {
   "cell_type": "markdown",
   "id": "64130f3f-8784-4566-9229-41eb40dab3b1",
   "metadata": {},
   "source": [
    "We can even display them to make sure they still work as expected.\n",
    "> **Issues?** If they don't work as expected, change the beginning of the import statement above to `from dashboard.widgets` to `from dashboard_key.widgets`"
   ]
  },
  {
   "cell_type": "code",
   "execution_count": null,
   "id": "deb5a7f0-62f1-42dc-8db1-da929da9f893",
   "metadata": {},
   "outputs": [
    {
     "data": {
      "application/vnd.jupyter.widget-view+json": {
       "model_id": "db4c69b4d32a4d239347917f7406e0e5",
       "version_major": 2,
       "version_minor": 0
      },
      "text/plain": [
       "Output()"
      ]
     },
     "execution_count": null,
     "metadata": {},
     "output_type": "execute_result"
    }
   ],
   "source": [
    "plot_output"
   ]
  },
  {
   "cell_type": "markdown",
   "id": "a1a05a0b-fdae-465c-8a58-54ce3a719a4a",
   "metadata": {},
   "source": [
    "Okay, that all looks really good! We successfully used nbdev to export certain cells to a python file. That's going to be a big deal as our dashboard grows into an app, but it's even useful now since our last notebook got really long. This way we can develop in steps but still maintain digestible notebooks. "
   ]
  },
  {
   "cell_type": "markdown",
   "id": "4619801c-bf74-4ba8-b01d-2918265221c3",
   "metadata": {},
   "source": [
    "## Styling"
   ]
  },
  {
   "cell_type": "markdown",
   "id": "c4b4736b-bea5-48f4-b5ba-42f42a5bf899",
   "metadata": {},
   "source": [
    "The style attribute is used to expose non-layout related styling attributes of widgets. Many helpful CSS properties are exposed through the style attribute. Others are made available for particular widgets, such as the `handle_color` property of the many types of Sliders."
   ]
  },
  {
   "cell_type": "code",
   "execution_count": null,
   "id": "c5acd726-7575-4bbb-b480-d2c0e17f0823",
   "metadata": {},
   "outputs": [
    {
     "data": {
      "application/vnd.jupyter.widget-view+json": {
       "model_id": "bc3790f70cf446aab70c44fd97356a86",
       "version_major": 2,
       "version_minor": 0
      },
      "text/plain": [
       "IntSlider(value=30, description='Window Size', min=1)"
      ]
     },
     "execution_count": null,
     "metadata": {},
     "output_type": "execute_result"
    }
   ],
   "source": [
    "window_size"
   ]
  },
  {
   "cell_type": "code",
   "execution_count": null,
   "id": "b697d130-4f26-4166-8e50-c9999b54cf62",
   "metadata": {},
   "outputs": [],
   "source": [
    "window_size.style.handle_color = 'orange'"
   ]
  },
  {
   "cell_type": "markdown",
   "id": "3c7e4f40-f707-483b-9363-a502423d0adc",
   "metadata": {},
   "source": [
    "Description width has a very convenient option called \"initial\" that makes the description just as wide as it needs to be so none of the letters are hidden."
   ]
  },
  {
   "cell_type": "code",
   "execution_count": null,
   "id": "07a733cc-645e-4f76-8163-c37785d4cb78",
   "metadata": {},
   "outputs": [
    {
     "data": {
      "application/vnd.jupyter.widget-view+json": {
       "model_id": "a8fe7d9902014a9f9dcf1c6017ca491c",
       "version_major": 2,
       "version_minor": 0
      },
      "text/plain": [
       "IntRangeSlider(value=(1900, 2000), description='Range of Years', max=2019, min=1880)"
      ]
     },
     "execution_count": null,
     "metadata": {},
     "output_type": "execute_result"
    }
   ],
   "source": [
    "year_range"
   ]
  },
  {
   "cell_type": "code",
   "execution_count": null,
   "id": "3d0a4a53-18a0-43e4-9b64-bebaff52d716",
   "metadata": {},
   "outputs": [],
   "source": [
    "year_range.style.handle_color = 'orange'"
   ]
  },
  {
   "cell_type": "code",
   "execution_count": null,
   "id": "acec0efb-613c-4626-9995-4bb79220db3e",
   "metadata": {},
   "outputs": [],
   "source": [
    "year_range.style.description_width = 'initial'"
   ]
  },
  {
   "cell_type": "markdown",
   "id": "dad59186-2c3f-4614-9051-01349bbd3ffd",
   "metadata": {},
   "source": [
    "## Layout\n",
    "\n",
    "Jupyter interactive widgets have a layout attribute exposing a number of CSS properties that impact how widgets are laid out."
   ]
  },
  {
   "cell_type": "code",
   "execution_count": null,
   "id": "8dcf81e9-3915-450f-9af1-86a47be83a70",
   "metadata": {},
   "outputs": [],
   "source": [
    "year_range.layout.width = '500px'"
   ]
  },
  {
   "cell_type": "code",
   "execution_count": null,
   "id": "525b4740-91b8-4390-9431-856eb6424b3d",
   "metadata": {},
   "outputs": [
    {
     "data": {
      "application/vnd.jupyter.widget-view+json": {
       "model_id": "7f549127114947f1abd41dbbee957c53",
       "version_major": 2,
       "version_minor": 0
      },
      "text/plain": [
       "BoundedIntText(value=10, description='Poly Order', layout=Layout(width='150px'), max=10)"
      ]
     },
     "execution_count": null,
     "metadata": {},
     "output_type": "execute_result"
    }
   ],
   "source": [
    "### Error: Poly_order > window length when == 10\n",
    "poly_order"
   ]
  },
  {
   "cell_type": "code",
   "execution_count": null,
   "id": "8cdacd40-9e98-4b03-a51d-0a589523191b",
   "metadata": {},
   "outputs": [],
   "source": [
    "poly_order.layout.width = '140px'"
   ]
  },
  {
   "cell_type": "markdown",
   "id": "6803f84a-0970-4b4e-a0cd-c0cb534adc13",
   "metadata": {},
   "source": [
    "## Container Widgets"
   ]
  },
  {
   "cell_type": "markdown",
   "id": "aa693f7e-930c-46aa-87ea-320ad4bc4195",
   "metadata": {},
   "source": [
    "We an use container widgets for any number of reasons. Later on in this tutorial, we will use the Tab widget to create multistep web applications. Below, we will nest the `selected_data_output` widget inside the Accordion widget to give the user the option to hide it away and make it smaller. Let's see what it looks like on it's own first."
   ]
  },
  {
   "cell_type": "code",
   "execution_count": null,
   "id": "80a85fa7-44c5-49ca-a279-72d3ae16a39e",
   "metadata": {},
   "outputs": [
    {
     "data": {
      "application/vnd.jupyter.widget-view+json": {
       "model_id": "c187214c405b421095d8db0a839613fa",
       "version_major": 2,
       "version_minor": 0
      },
      "text/plain": [
       "Accordion()"
      ]
     },
     "execution_count": null,
     "metadata": {},
     "output_type": "execute_result"
    }
   ],
   "source": [
    "selected_data_accordion = widgets.Accordion(titles=('Selected Data',))\n",
    "selected_data_accordion"
   ]
  },
  {
   "cell_type": "markdown",
   "id": "90de6211-60bb-4bce-b753-79c412263254",
   "metadata": {},
   "source": [
    "Not a whole lot going on here. Why? Because we haven't given the Accordion a \"child\" widget to hold just yet. Let's go ahead and **\"Create New View for Output\"**"
   ]
  },
  {
   "cell_type": "markdown",
   "id": "3384730c-d52d-499e-922d-ed40deacc814",
   "metadata": {},
   "source": [
    "### Tuples\n",
    "\n",
    "The data type of the children trait expected by Container widgets is a tuple. If you haven't encountered them before, tuples are similar to lists but they are immutable, meaning that their contents can't be change once you've created them. The syntax for a tuple with multiple elements is `('one', 'two', 'three')`. Just like a list but with parentheses. There is one execption to that analogy which we will cover soon."
   ]
  },
  {
   "cell_type": "markdown",
   "id": "986e41ed-ffee-4d95-87ad-04b34bda8212",
   "metadata": {},
   "source": [
    "Okay, so let's try and add the selected_data_output widget to the accordion. "
   ]
  },
  {
   "cell_type": "code",
   "execution_count": null,
   "id": "521494d8-7115-441b-94f8-f66e5d44bf56",
   "metadata": {},
   "outputs": [
    {
     "ename": "TraitError",
     "evalue": "The 'children' trait of an Accordion instance expected a tuple, not the Output Output(outputs=({'output_type': 'display_data', 'data': {'text/plain': '    Year  Temperature  Savitzky-Golay\\n20  1900        -0.07       -0.202738\\n21  1901        -0.15       -0.227390\\n22  1902        -0.27       -0.255068\\n23  1903        -0.36       -0.283732\\n24  1904        -0.46       -0.311354\\n..   ...          ...             ...\\n89  1969         0.05       -0.041382\\n90  1970         0.03       -0.032225\\n91  1971        -0.08       -0.026026\\n92  1972         0.01       -0.005018\\n93  1973         0.16        0.010567\\n\\n[74 rows x 3 columns]', 'text/html': '<div>\\n<style scoped>\\n    .dataframe tbody tr th:only-of-type {\\n        vertical-align: middle;\\n    }\\n\\n    .dataframe tbody tr th {\\n        vertical-align: top;\\n    }\\n\\n    .dataframe thead th {\\n        text-align: right;\\n    }\\n</style>\\n<table border=\"1\" class=\"dataframe\">\\n  <thead>\\n    <tr style=\"text-align: right;\">\\n      <th></th>\\n      <th>Year</th>\\n      <th>Temperature</th>\\n      <th>Savitzky-Golay</th>\\n    </tr>\\n  </thead>\\n  <tbody>\\n    <tr>\\n      <th>20</th>\\n      <td>1900</td>\\n      <td>-0.07</td>\\n      <td>-0.202738</td>\\n    </tr>\\n    <tr>\\n      <th>21</th>\\n      <td>1901</td>\\n      <td>-0.15</td>\\n      <td>-0.227390</td>\\n    </tr>\\n    <tr>\\n      <th>22</th>\\n      <td>1902</td>\\n      <td>-0.27</td>\\n      <td>-0.255068</td>\\n    </tr>\\n    <tr>\\n      <th>23</th>\\n      <td>1903</td>\\n      <td>-0.36</td>\\n      <td>-0.283732</td>\\n    </tr>\\n    <tr>\\n      <th>24</th>\\n      <td>1904</td>\\n      <td>-0.46</td>\\n      <td>-0.311354</td>\\n    </tr>\\n    <tr>\\n      <th>...</th>\\n      <td>...</td>\\n      <td>...</td>\\n      <td>...</td>\\n    </tr>\\n    <tr>\\n      <th>89</th>\\n      <td>1969</td>\\n      <td>0.05</td>\\n      <td>-0.041382</td>\\n    </tr>\\n    <tr>\\n      <th>90</th>\\n      <td>1970</td>\\n      <td>0.03</td>\\n      <td>-0.032225</td>\\n    </tr>\\n    <tr>\\n      <th>91</th>\\n      <td>1971</td>\\n      <td>-0.08</td>\\n      <td>-0.026026</td>\\n    </tr>\\n    <tr>\\n      <th>92</th>\\n      <td>1972</td>\\n      <td>0.01</td>\\n      <td>-0.005018</td>\\n    </tr>\\n    <tr>\\n      <th>93</th>\\n      <td>1973</td>\\n      <td>0.16</td>\\n      <td>0.010567</td>\\n    </tr>\\n  </tbody>\\n</table>\\n<p>74 rows × 3 columns</p>\\n</div>'}, 'metadata': {}},)).",
     "output_type": "error",
     "traceback": [
      "\u001b[0;31mTraitError\u001b[0m\u001b[0;31m:\u001b[0m The 'children' trait of an Accordion instance expected a tuple, not the Output Output(outputs=({'output_type': 'display_data', 'data': {'text/plain': '    Year  Temperature  Savitzky-Golay\\n20  1900        -0.07       -0.202738\\n21  1901        -0.15       -0.227390\\n22  1902        -0.27       -0.255068\\n23  1903        -0.36       -0.283732\\n24  1904        -0.46       -0.311354\\n..   ...          ...             ...\\n89  1969         0.05       -0.041382\\n90  1970         0.03       -0.032225\\n91  1971        -0.08       -0.026026\\n92  1972         0.01       -0.005018\\n93  1973         0.16        0.010567\\n\\n[74 rows x 3 columns]', 'text/html': '<div>\\n<style scoped>\\n    .dataframe tbody tr th:only-of-type {\\n        vertical-align: middle;\\n    }\\n\\n    .dataframe tbody tr th {\\n        vertical-align: top;\\n    }\\n\\n    .dataframe thead th {\\n        text-align: right;\\n    }\\n</style>\\n<table border=\"1\" class=\"dataframe\">\\n  <thead>\\n    <tr style=\"text-align: right;\">\\n      <th></th>\\n      <th>Year</th>\\n      <th>Temperature</th>\\n      <th>Savitzky-Golay</th>\\n    </tr>\\n  </thead>\\n  <tbody>\\n    <tr>\\n      <th>20</th>\\n      <td>1900</td>\\n      <td>-0.07</td>\\n      <td>-0.202738</td>\\n    </tr>\\n    <tr>\\n      <th>21</th>\\n      <td>1901</td>\\n      <td>-0.15</td>\\n      <td>-0.227390</td>\\n    </tr>\\n    <tr>\\n      <th>22</th>\\n      <td>1902</td>\\n      <td>-0.27</td>\\n      <td>-0.255068</td>\\n    </tr>\\n    <tr>\\n      <th>23</th>\\n      <td>1903</td>\\n      <td>-0.36</td>\\n      <td>-0.283732</td>\\n    </tr>\\n    <tr>\\n      <th>24</th>\\n      <td>1904</td>\\n      <td>-0.46</td>\\n      <td>-0.311354</td>\\n    </tr>\\n    <tr>\\n      <th>...</th>\\n      <td>...</td>\\n      <td>...</td>\\n      <td>...</td>\\n    </tr>\\n    <tr>\\n      <th>89</th>\\n      <td>1969</td>\\n      <td>0.05</td>\\n      <td>-0.041382</td>\\n    </tr>\\n    <tr>\\n      <th>90</th>\\n      <td>1970</td>\\n      <td>0.03</td>\\n      <td>-0.032225</td>\\n    </tr>\\n    <tr>\\n      <th>91</th>\\n      <td>1971</td>\\n      <td>-0.08</td>\\n      <td>-0.026026</td>\\n    </tr>\\n    <tr>\\n      <th>92</th>\\n      <td>1972</td>\\n      <td>0.01</td>\\n      <td>-0.005018</td>\\n    </tr>\\n    <tr>\\n      <th>93</th>\\n      <td>1973</td>\\n      <td>0.16</td>\\n      <td>0.010567</td>\\n    </tr>\\n  </tbody>\\n</table>\\n<p>74 rows × 3 columns</p>\\n</div>'}, 'metadata': {}},)).\n"
     ]
    }
   ],
   "source": [
    "selected_data_accordion.children = (selected_data_output)"
   ]
  },
  {
   "cell_type": "markdown",
   "id": "19b48ec4-796b-4efd-9381-7c41b6cd7d68",
   "metadata": {},
   "source": [
    "That's a lot of text in one error message. What happened here? Our error is telling us that the 'children' trait expected a tuple, and not an Output widget. Do you remember when I said the syntax of a tuple looks the same as a list but with parenthases? Well this is the grand exception (lol). Tuples with one element are written a little differently: as if you were creating a tuple with two elements, but then you removed the second one. That is, the comma and the closing bracket stay, but the \"name of the second element\" is removed. Go ahead and try that on your own below."
   ]
  },
  {
   "cell_type": "code",
   "execution_count": null,
   "id": "331f412e-833b-4f14-91aa-5b5686b28fb6",
   "metadata": {},
   "outputs": [],
   "source": [
    "selected_data_accordion.children = (selected_data_output, plot_output) # selected_data_accordion.children = (selected_data_output, )"
   ]
  },
  {
   "cell_type": "markdown",
   "id": "07099cb4-cf07-4f76-99eb-fa69cf720fbe",
   "metadata": {},
   "source": [
    "It seems that by default, the data isn't showing. The accordion apprears to be closed. We can change this using the `selected_index` trait of the accordion. Let's see what it's set to now."
   ]
  },
  {
   "cell_type": "code",
   "execution_count": null,
   "id": "5c8f5b91-014e-433c-b703-e243a6d99c33",
   "metadata": {},
   "outputs": [],
   "source": [
    "selected_data_accordion.selected_index"
   ]
  },
  {
   "cell_type": "markdown",
   "id": "81cbe9cb-d944-4692-aaa3-ff827135086c",
   "metadata": {},
   "source": [
    "If your accordion is closed, selected_index will be `None` and won't appear to return anything at all. We can open the accordion programatically by setting the selected_index to the index of the accordion we want to open. In this case there is only one. Go ahead and try to open the accordion programmatically."
   ]
  },
  {
   "cell_type": "code",
   "execution_count": null,
   "id": "35b6b8f5-acd9-4ad8-8987-f1d7050a8061",
   "metadata": {},
   "outputs": [],
   "source": [
    "selected_data_accordion.selected_index = 0 # selected_data_accordion.selected_index"
   ]
  },
  {
   "cell_type": "markdown",
   "id": "ee491de4-e373-4460-b576-4b4d323b6fad",
   "metadata": {},
   "source": [
    "We like this trick, because our users are probably more interested in our plot than the raw data anyways, so this keeps the raw data from being in the way."
   ]
  },
  {
   "cell_type": "markdown",
   "id": "5a2ddda7-6828-492a-ba97-59b1110227a1",
   "metadata": {},
   "source": [
    "## Arranging Widgets with HBox and VBox"
   ]
  },
  {
   "cell_type": "markdown",
   "id": "a7000ff3-0754-4df4-bb2d-b8f12b15280b",
   "metadata": {},
   "source": [
    "The arrangment where every widget is stacked one on top of the other isn't ideal for a data dashboard that we expect users to access from a desktop. ipywidgets has several container widgets to arrange widgets in various ways. Perhaps two of the most handy are the `HBox` and `VBox` widgets, which arrange widgets horizontally and vertically, respectively. If you are familiar with FlexBox or GridBox, those are both available too but we will not cover them here. Let's use a HBox to put the curve parameter widgets side by side."
   ]
  },
  {
   "cell_type": "code",
   "execution_count": null,
   "id": "ea31ebaf-455b-43a4-b532-ca6be562d0e6",
   "metadata": {},
   "outputs": [
    {
     "data": {
      "application/vnd.jupyter.widget-view+json": {
       "model_id": "9be94ab13b14431bad00a0556a2bd3d6",
       "version_major": 2,
       "version_minor": 0
      },
      "text/plain": [
       "HBox(children=(IntSlider(value=55, description='Window Size', min=1, style=SliderStyle(handle_color='orange'))…"
      ]
     },
     "execution_count": null,
     "metadata": {},
     "output_type": "execute_result"
    }
   ],
   "source": [
    "curve_parameter_widgets = widgets.HBox(children = (window_size, poly_order))\n",
    "curve_parameter_widgets"
   ]
  },
  {
   "cell_type": "markdown",
   "id": "4298ab7e-b49d-46ba-855d-b78bc4bdb598",
   "metadata": {},
   "source": [
    "Nice! This looks good because this HBox is about as wide as our `year_range` widget is.  Notice that we can pass in the children as a parameter to the widget, or change the children trait after the widget has already been instantiated. "
   ]
  },
  {
   "cell_type": "code",
   "execution_count": null,
   "id": "ed9eb9fb-4693-4474-b95a-36422a98af4c",
   "metadata": {},
   "outputs": [
    {
     "data": {
      "application/vnd.jupyter.widget-view+json": {
       "model_id": "486cbeed990049c38e5df6c005ac0821",
       "version_major": 2,
       "version_minor": 0
      },
      "text/plain": [
       "VBox(children=(IntRangeSlider(value=(1900, 1973), description='Range of Years', layout=Layout(width='500px'), …"
      ]
     },
     "execution_count": null,
     "metadata": {},
     "output_type": "execute_result"
    }
   ],
   "source": [
    "vbox = widgets.VBox()\n",
    "vbox.children = (year_range, selected_data_accordion, curve_parameter_widgets) # add year_range, selected_data_accordion, curve_parameter_widgets to the VBox\n",
    "vbox"
   ]
  },
  {
   "cell_type": "markdown",
   "id": "db8c12e5-6013-4e92-bf0f-dc3304f2b41d",
   "metadata": {},
   "source": [
    "This look okay, I guess, but we could really use some more padding in between the widgets."
   ]
  },
  {
   "cell_type": "code",
   "execution_count": null,
   "id": "5ac1fc6e-4f35-4fbd-b71f-b8fa7cae169c",
   "metadata": {},
   "outputs": [],
   "source": [
    "for child in vbox.children:\n",
    "    child.layout.padding = '20px 0 20px 0'"
   ]
  },
  {
   "cell_type": "code",
   "execution_count": null,
   "id": "708d637b-24ab-4fae-a242-5a66a072c946",
   "metadata": {},
   "outputs": [],
   "source": [
    "vbox.layout.padding = '20px 0 20px 0'"
   ]
  },
  {
   "cell_type": "markdown",
   "id": "4c883a10-3dbd-4c66-af69-12961ff62d09",
   "metadata": {},
   "source": [
    "That looks a lot better! "
   ]
  },
  {
   "cell_type": "code",
   "execution_count": null,
   "id": "48c69c26-7755-4bdf-b980-6a520b04e8d6",
   "metadata": {},
   "outputs": [],
   "source": []
  }
 ],
 "metadata": {
  "kernelspec": {
   "display_name": "python3",
   "language": "python",
   "name": "python3"
  }
 },
 "nbformat": 4,
 "nbformat_minor": 5
}
