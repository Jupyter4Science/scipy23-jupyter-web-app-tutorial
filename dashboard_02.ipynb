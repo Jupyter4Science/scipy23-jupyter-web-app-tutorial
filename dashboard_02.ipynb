{
 "cells": [
  {
   "cell_type": "code",
   "execution_count": null,
   "id": "8abc327f-ee19-4bbe-8d55-954bd4ad3c5b",
   "metadata": {},
   "outputs": [],
   "source": [
    "from dashboard.main import main_widget # import the main widget\n",
    "\n",
    "main_widget # display the main widget"
   ]
  },
  {
   "cell_type": "code",
   "execution_count": null,
   "id": "4bcd1563-e526-4f42-b229-3ba38af4c6ee",
   "metadata": {},
   "outputs": [],
   "source": []
  }
 ],
 "metadata": {
  "kernelspec": {
   "display_name": "python3",
   "language": "python",
   "name": "python3"
  }
 },
 "nbformat": 4,
 "nbformat_minor": 5
}
