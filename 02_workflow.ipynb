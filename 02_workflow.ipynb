{
 "cells": [
  {
   "cell_type": "markdown",
   "id": "4b0c4908-c142-4be8-ae18-3d91ddb2a33a",
   "metadata": {},
   "source": [
    "# Smoothing Land-Ocean Temperature Data\n",
    "\n",
    "This workflow **loads a data file** with global temperature data and **smooths it with several different algorithms**. At the end you can **select a particular year range** and **create a new data file** containing the smoothed data for the range desired."
   ]
  },
  {
   "cell_type": "code",
   "execution_count": null,
   "id": "d8180eff-3c0e-4b77-b3d0-51632faedd91",
   "metadata": {},
   "outputs": [],
   "source": [
    "import pandas as pd\n",
    "import os"
   ]
  },
  {
   "cell_type": "markdown",
   "id": "90084ed2-dcc5-4a98-a697-02b36bdba826",
   "metadata": {},
   "source": [
    "## Load data from file"
   ]
  },
  {
   "cell_type": "code",
   "execution_count": null,
   "id": "3a345487-7730-4d80-9e49-2da04e70d9df",
   "metadata": {},
   "outputs": [],
   "source": [
    "# Load data into memory from file\n",
    "DATA_DIR = 'data'\n",
    "DATA_FILE = 'land-ocean-temp-index.csv'\n",
    "\n",
    "df = pd.read_csv(os.path.join(DATA_DIR, DATA_FILE), escapechar='#')\n",
    "df"
   ]
  },
  {
   "cell_type": "markdown",
   "id": "36d691eb-4284-4624-bf57-0f1cdf80f5ab",
   "metadata": {},
   "source": [
    "## Plot original data"
   ]
  },
  {
   "cell_type": "code",
   "execution_count": null,
   "id": "67e1839e-22ff-4bab-b42d-f962a6e2babb",
   "metadata": {},
   "outputs": [],
   "source": [
    "from matplotlib import pyplot as plt\n",
    "\n",
    "plt.xlabel('Year')\n",
    "plt.ylabel('Temperature')\n",
    "plt.plot(df['Year'], df['Temperature'])\n",
    "plt.show()"
   ]
  },
  {
   "cell_type": "markdown",
   "id": "a4922ab5-9a59-4be1-913b-a4935764bee6",
   "metadata": {},
   "source": [
    "## Add column for Savitzky-Golay filter"
   ]
  },
  {
   "cell_type": "code",
   "execution_count": null,
   "id": "d7c81ed6-a450-4c15-b4a8-e92213ff8537",
   "metadata": {},
   "outputs": [],
   "source": [
    "from scipy.signal import savgol_filter\n",
    "\n",
    "# Set the window size and polynomial order for the Savitzky-Golay filter\n",
    "window_size = 7\n",
    "poly_order = 5\n",
    "\n",
    "# Apply Savitzky-Golay smoothing to the Temperature column\n",
    "df['Savitzky-Golay'] = savgol_filter(df['Temperature'], window_size, poly_order)\n",
    "df"
   ]
  },
  {
   "cell_type": "code",
   "execution_count": null,
   "id": "323a4f58-801c-4da6-88b3-e92ac19a9cdc",
   "metadata": {},
   "outputs": [],
   "source": [
    "plt.xlabel('Year')\n",
    "plt.ylabel('Temperature')\n",
    "plt.plot(df['Year'], df['Temperature'])\n",
    "plt.plot(df['Year'], df['Savitzky-Golay'])\n",
    "plt.show()"
   ]
  },
  {
   "cell_type": "markdown",
   "id": "2ae0c6d8-a9ca-421d-98c5-e736103caa36",
   "metadata": {},
   "source": [
    "## Select a range of data"
   ]
  },
  {
   "cell_type": "code",
   "execution_count": null,
   "id": "dfc10dc3-ee0d-42a4-afda-d063499b8d2d",
   "metadata": {},
   "outputs": [],
   "source": [
    "from_year = 1920\n",
    "to_year = 1980"
   ]
  },
  {
   "cell_type": "code",
   "execution_count": null,
   "id": "9dea01e0-de1f-4539-b562-90f4737e486e",
   "metadata": {},
   "outputs": [],
   "source": [
    "selected_range = df[(df['Year'] >= from_year) & (df['Year'] <= to_year)]"
   ]
  },
  {
   "cell_type": "markdown",
   "id": "da8c6ed4-b684-4b39-8ed4-721163c1c658",
   "metadata": {},
   "source": [
    "## Plot selected data with smoothed curve"
   ]
  },
  {
   "cell_type": "code",
   "execution_count": null,
   "id": "7b21668d-a050-406c-9179-2311c547cdf3",
   "metadata": {},
   "outputs": [],
   "source": [
    "plt.xlabel('Year')\n",
    "plt.ylabel('Temperature')\n",
    "plt.plot(selected_range['Year'], selected_range['Temperature'])\n",
    "plt.plot(selected_range['Year'], selected_range['Savitzky-Golay']) \n",
    "plt.show()"
   ]
  },
  {
   "cell_type": "markdown",
   "id": "2b6311c9-1154-402f-b4fb-1cc5860161bb",
   "metadata": {},
   "source": [
    "## Save selected data to file"
   ]
  },
  {
   "cell_type": "code",
   "execution_count": null,
   "id": "695f7de6-db67-4cac-ab24-f1f2151bc68e",
   "metadata": {},
   "outputs": [],
   "source": [
    "selected_range.to_csv('data/output.csv', index=False)"
   ]
  },
  {
   "cell_type": "code",
   "execution_count": null,
   "id": "b730e982-2e6a-4747-bf2e-f4f414a04c0d",
   "metadata": {},
   "outputs": [],
   "source": []
  }
 ],
 "metadata": {
  "kernelspec": {
   "display_name": "python3",
   "language": "python",
   "name": "python3"
  }
 },
 "nbformat": 4,
 "nbformat_minor": 5
}
