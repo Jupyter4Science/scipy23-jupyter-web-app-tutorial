{
 "cells": [
  {
   "cell_type": "code",
   "execution_count": null,
   "id": "00ec19cb-9308-4442-8f95-a295c9564b01",
   "metadata": {},
   "outputs": [],
   "source": []
  },
  {
   "cell_type": "markdown",
   "id": "0f456361-f1e0-46c5-b667-3d8add590a87",
   "metadata": {},
   "source": [
    "### Widgets don't just have traits, they `HaveTraits`"
   ]
  },
  {
   "cell_type": "code",
   "execution_count": null,
   "id": "0f77d9b4-2ce0-441a-86d9-660cea02e7ea",
   "metadata": {},
   "outputs": [
    {
     "data": {
      "text/plain": [
       "ipywidgets.widgets.widget_int.IntSlider"
      ]
     },
     "execution_count": null,
     "metadata": {},
     "output_type": "execute_result"
    }
   ],
   "source": [
    "slider.__class__"
   ]
  },
  {
   "cell_type": "code",
   "execution_count": null,
   "id": "d5b9307c-7da1-4bb6-b149-f200e8aa6664",
   "metadata": {},
   "outputs": [
    {
     "data": {
      "text/plain": [
       "(ipywidgets.widgets.widget_int.IntSlider,\n",
       " ipywidgets.widgets.widget_int._BoundedInt,\n",
       " ipywidgets.widgets.widget_int._Int,\n",
       " ipywidgets.widgets.widget_description.DescriptionWidget,\n",
       " ipywidgets.widgets.domwidget.DOMWidget,\n",
       " ipywidgets.widgets.valuewidget.ValueWidget,\n",
       " ipywidgets.widgets.widget_core.CoreWidget,\n",
       " ipywidgets.widgets.widget.Widget,\n",
       " ipywidgets.widgets.widget.LoggingHasTraits,\n",
       " traitlets.traitlets.HasTraits,\n",
       " traitlets.traitlets.HasDescriptors,\n",
       " object)"
      ]
     },
     "execution_count": null,
     "metadata": {},
     "output_type": "execute_result"
    }
   ],
   "source": [
    "import inspect\n",
    "\n",
    "inspect.getmro(slider.__class__)"
   ]
  },
  {
   "cell_type": "markdown",
   "id": "843537ae-0a31-4d02-8b05-659f6921472c",
   "metadata": {},
   "source": [
    "As we can see, the slider inherits `traitlets.traitlets.HasTraits`. "
   ]
  },
  {
   "cell_type": "markdown",
   "id": "4ff7ba75-ef11-447d-a27e-04af6275ed40",
   "metadata": {},
   "source": [
    "You can get a list of traits belonging to an object that `HasTraits` by looking at the trait called `keys`.\n"
   ]
  },
  {
   "cell_type": "code",
   "execution_count": null,
   "id": "66a2b356-7ef8-4bd4-b92b-277bc7c0a591",
   "metadata": {},
   "outputs": [
    {
     "data": {
      "text/plain": [
       "['_dom_classes',\n",
       " '_model_module',\n",
       " '_model_module_version',\n",
       " '_model_name',\n",
       " '_view_count',\n",
       " '_view_module',\n",
       " '_view_module_version',\n",
       " '_view_name',\n",
       " 'behavior',\n",
       " 'continuous_update',\n",
       " 'description',\n",
       " 'description_allow_html',\n",
       " 'disabled',\n",
       " 'layout',\n",
       " 'max',\n",
       " 'min',\n",
       " 'orientation',\n",
       " 'readout',\n",
       " 'readout_format',\n",
       " 'step',\n",
       " 'style',\n",
       " 'tabbable',\n",
       " 'tooltip',\n",
       " 'value']"
      ]
     },
     "execution_count": null,
     "metadata": {},
     "output_type": "execute_result"
    }
   ],
   "source": [
    "slider.keys"
   ]
  },
  {
   "cell_type": "markdown",
   "id": "dc2af668-7b63-4a9e-ac12-5db8158af0b8",
   "metadata": {},
   "source": [
    "Now we know that our IntSlider has three traits we are really interested in: min, max, and value. They all seem to return `int`s."
   ]
  },
  {
   "cell_type": "code",
   "execution_count": null,
   "id": "884229b6-182f-4287-ad02-34a45aa9a1de",
   "metadata": {},
   "outputs": [
    {
     "data": {
      "text/plain": [
       "(46, 0, 100)"
      ]
     },
     "execution_count": null,
     "metadata": {},
     "output_type": "execute_result"
    }
   ],
   "source": [
    "(slider.value, slider.min, slider.max)"
   ]
  },
  {
   "cell_type": "markdown",
   "id": "952235fd-f9c7-4fc3-948c-191bbf3394a4",
   "metadata": {},
   "source": [
    "Let's start by considering `min`, `max`, and `value`. Maybe we want to figure out what *type* of trait these are. Traits come in many types including `Int`, `Float`, `Unicode` (string), `List`, and `Any`, which allows for any kind of object. Since our slider is of type `IntSlider`, we might imagine that the trait type is also type `traitlets.traitlets.Int`. When we display the value of slider, that seems pretty reasonable..."
   ]
  },
  {
   "cell_type": "markdown",
   "id": "8051139a-39df-4993-9cef-a4f2e3ac7e19",
   "metadata": {},
   "source": [
    "But that doesn't actually tell us the type of the trait object. To get that information, we need to use the `traits()` method."
   ]
  },
  {
   "cell_type": "code",
   "execution_count": null,
   "id": "518bc30a-8c63-4c04-8fb7-797c76095ee0",
   "metadata": {},
   "outputs": [
    {
     "data": {
      "text/plain": [
       "{'_dom_classes': <ipywidgets.widgets.trait_types.TypedTuple>,\n",
       " '_model_module': <traitlets.traitlets.Unicode>,\n",
       " '_model_module_version': <traitlets.traitlets.Unicode>,\n",
       " '_model_name': <traitlets.traitlets.Unicode>,\n",
       " '_msg_callbacks': <traitlets.traitlets.Instance>,\n",
       " '_property_lock': <traitlets.traitlets.Dict>,\n",
       " '_states_to_send': <traitlets.traitlets.Set>,\n",
       " '_view_count': <traitlets.traitlets.Int>,\n",
       " '_view_module': <traitlets.traitlets.Unicode>,\n",
       " '_view_module_version': <traitlets.traitlets.Unicode>,\n",
       " '_view_name': <traitlets.traitlets.Unicode>,\n",
       " 'behavior': <traitlets.traitlets.CaselessStrEnum>,\n",
       " 'comm': <traitlets.traitlets.Any>,\n",
       " 'continuous_update': <traitlets.traitlets.Bool>,\n",
       " 'description': <traitlets.traitlets.Unicode>,\n",
       " 'description_allow_html': <traitlets.traitlets.Bool>,\n",
       " 'disabled': <traitlets.traitlets.Bool>,\n",
       " 'keys': <traitlets.traitlets.List>,\n",
       " 'layout': <ipywidgets.widgets.trait_types.InstanceDict>,\n",
       " 'log': <traitlets.traitlets.Instance>,\n",
       " 'max': <traitlets.traitlets.CInt>,\n",
       " 'min': <traitlets.traitlets.CInt>,\n",
       " 'orientation': <traitlets.traitlets.CaselessStrEnum>,\n",
       " 'readout': <traitlets.traitlets.Bool>,\n",
       " 'readout_format': <ipywidgets.widgets.trait_types.NumberFormat>,\n",
       " 'step': <traitlets.traitlets.CInt>,\n",
       " 'style': <ipywidgets.widgets.trait_types.InstanceDict>,\n",
       " 'tabbable': <traitlets.traitlets.Bool>,\n",
       " 'tooltip': <traitlets.traitlets.Unicode>,\n",
       " 'value': <traitlets.traitlets.CInt>}"
      ]
     },
     "execution_count": null,
     "metadata": {},
     "output_type": "execute_result"
    }
   ],
   "source": [
    "slider.traits()"
   ]
  },
  {
   "cell_type": "markdown",
   "id": "22735636-ca22-473b-82b0-931d79835073",
   "metadata": {},
   "source": [
    "Okay, this is a lot to digest. This is a dictionary. The keys are the names of the traits, and the values show us the trait type. Let's take a closer look...\n",
    "```python\n",
    " 'max': <traitlets.traitlets.CInt at 0x7ff8efdd9580>,\n",
    " 'min': <traitlets.traitlets.CInt at 0x7ff8efdd95e0>,\n",
    " 'value': <traitlets.traitlets.CInt at 0x7ff8efdd94c0>\n",
    "```\n",
    "We can see that these traits are all of type `CInt`. What does that mean? How is that different from `Int`? It all has to do with the validation methods that ship with the traits."
   ]
  },
  {
   "cell_type": "code",
   "execution_count": null,
   "id": "24e0912e-9270-40c1-aa71-53eb7228d2bc",
   "metadata": {},
   "outputs": [],
   "source": [
    "from traitlets import HasTraits, Int\n",
    "\n",
    "class MyInt(HasTraits):\n",
    "    \n",
    "    value = Int()\n",
    "    \n",
    "    def __init__(self):\n",
    "        pass"
   ]
  },
  {
   "cell_type": "code",
   "execution_count": null,
   "id": "cc275a73-ac69-4056-ae54-bcc0e5f72a0d",
   "metadata": {},
   "outputs": [
    {
     "data": {
      "text/plain": [
       "0"
      ]
     },
     "execution_count": null,
     "metadata": {},
     "output_type": "execute_result"
    }
   ],
   "source": [
    "myint = MyInt()\n",
    "myint.value"
   ]
  },
  {
   "cell_type": "markdown",
   "id": "85a09d63-d70a-41a6-9a7b-0d3004557614",
   "metadata": {},
   "source": [
    "Okay, we expect the `value` trait to only accept integers right? Let's find out by giving it a float instead."
   ]
  },
  {
   "cell_type": "code",
   "execution_count": null,
   "id": "c3b99c43-0b11-439f-896a-4aa1d6ed3ca2",
   "metadata": {},
   "outputs": [
    {
     "ename": "TraitError",
     "evalue": "The 'value' trait of a MyInt instance expected an int, not the float 2.5.",
     "output_type": "error",
     "traceback": [
      "\u001b[0;31mTraitError\u001b[0m\u001b[0;31m:\u001b[0m The 'value' trait of a MyInt instance expected an int, not the float 2.5.\n"
     ]
    }
   ],
   "source": [
    "myint.value = 2.5"
   ]
  },
  {
   "cell_type": "markdown",
   "id": "26eb5eff-21af-420e-8445-b75ed6748ad8",
   "metadata": {},
   "source": [
    "Okay! As expected, our trait of type `Int` doesn't take floats. We can try strings too."
   ]
  },
  {
   "cell_type": "code",
   "execution_count": null,
   "id": "87688563-66a9-485a-8724-4159664c5a68",
   "metadata": {},
   "outputs": [
    {
     "ename": "TraitError",
     "evalue": "The 'value' trait of a MyInt instance expected an int, not the str '2'.",
     "output_type": "error",
     "traceback": [
      "\u001b[0;31mTraitError\u001b[0m\u001b[0;31m:\u001b[0m The 'value' trait of a MyInt instance expected an int, not the str '2'.\n"
     ]
    }
   ],
   "source": [
    "myint.value = '2'"
   ]
  },
  {
   "cell_type": "code",
   "execution_count": null,
   "id": "33fd05ab-b7af-463f-8cc1-da4f2cac8604",
   "metadata": {},
   "outputs": [],
   "source": []
  },
  {
   "cell_type": "code",
   "execution_count": null,
   "id": "a7575518-bbeb-4e0b-ab5b-134096039f5a",
   "metadata": {},
   "outputs": [],
   "source": [
    "That looks like an `Int`"
   ]
  },
  {
   "cell_type": "code",
   "execution_count": null,
   "id": "9624962a-34b8-4ed3-8171-35b4f20caf43",
   "metadata": {},
   "outputs": [
    {
     "data": {
      "text/plain": [
       "(0, 100, 0)"
      ]
     },
     "execution_count": null,
     "metadata": {},
     "output_type": "execute_result"
    }
   ],
   "source": [
    "(slider.min, slider.max, slider.value)"
   ]
  },
  {
   "cell_type": "markdown",
   "id": "ecbc1ed6-f141-498c-b8d0-026a076057ca",
   "metadata": {},
   "source": [
    "### Under the hood: traitlets\n",
    "\n",
    "So how do ipywidgets work under the hood exactly? Well, ipywidgets are built on top of the [traitlets](https://traitlets.readthedocs.io/en/stable/using_traitlets.html#) library. Widgets inherit `HasTraits`, which gives us the ability to observe changes in its value. Let's build an object that works like a widget, but doesn't actually have a view. "
   ]
  },
  {
   "cell_type": "code",
   "execution_count": null,
   "id": "ab5cfb1e-ed5b-4100-9335-63251a68e4e0",
   "metadata": {},
   "outputs": [],
   "source": [
    "from traitlets import HasTraits, Int\n",
    "\n",
    "class Number(HasTraits):\n",
    "    \n",
    "    value = Int()\n",
    "    square = Int()\n",
    "    \n",
    "    def __init__(self):\n",
    "        pass # what goes here?\n",
    "        # how do we observe the change\n",
    "        \n",
    "    def on_value_change(self, change):\n",
    "        self.square = change['new']**2"
   ]
  },
  {
   "cell_type": "code",
   "execution_count": null,
   "id": "257bd412-bf2b-4dfb-987d-06ce5d542db4",
   "metadata": {},
   "outputs": [],
   "source": [
    "number = Number()\n",
    "number.value = 2\n",
    "number.square"
   ]
  },
  {
   "cell_type": "code",
   "execution_count": null,
   "id": "bce142b8-7202-45a2-80d3-f8ee8976bbe1",
   "metadata": {},
   "outputs": [],
   "source": []
  }
 ],
 "metadata": {
  "kernelspec": {
   "display_name": "python3",
   "language": "python",
   "name": "python3"
  }
 },
 "nbformat": 4,
 "nbformat_minor": 5
}
