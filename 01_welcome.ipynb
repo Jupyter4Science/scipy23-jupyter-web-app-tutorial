{
 "cells": [
  {
   "cell_type": "markdown",
   "id": "37b65a17",
   "metadata": {},
   "source": [
    "# Welcome"
   ]
  },
  {
   "cell_type": "markdown",
   "id": "221d2bed",
   "metadata": {},
   "source": [
    "## Prerequisite Knowledge\n",
    "\n",
    "To follow along with this tutorial, you will want to have exposure to Python and Object-Oriented Programming. Familiarity with ipywidgets would also be helpful."
   ]
  },
  {
   "cell_type": "markdown",
   "id": "a13a7be0-7e06-4429-826c-f708fb23940e",
   "metadata": {},
   "source": [
    "## Introductions\n",
    "\n",
    "* **Who am I**\n",
    "* **Who are you**\n",
    "    * Who here has a workflow in a Jupyter Notebook\n",
    "    * What domains are you from\n",
    "    * Do you consider yourself a research? Developer? Something else?\n",
    "* **Why you signed up for this workshop**\n",
    "* **What are you familiar with already**\n",
    "    * python\n",
    "    * Jupyter\n",
    "    * JupyterLab\n",
    "    * ipywidgets"
   ]
  },
  {
   "cell_type": "markdown",
   "id": "2c1d11d1-561d-4ae7-83de-2bc62062535e",
   "metadata": {},
   "source": [
    "## Expectations\n",
    "\n",
    "- please interrupt with questions at any time\n",
    "- use stickies to indicate when you are done with an exercise"
   ]
  },
  {
   "cell_type": "markdown",
   "id": "124a71c0",
   "metadata": {},
   "source": [
    "## What we are going to learn\n",
    "\n",
    "1. Getting started\n",
    "    - installing conda env or launching Binder\n",
    "    - using JupyterLab\n",
    "2. Get familiar with a scientific workflow\n",
    "3. Use ipywidgets to create the beginnings of a dashboard\n",
    "4. Strip away the development cells and preview the final product\n",
    "5. Learn how to deploy the app with Voila and Binder"
   ]
  },
  {
   "cell_type": "markdown",
   "id": "4d7fbc8d-40da-4c89-a434-14a02880298d",
   "metadata": {},
   "source": [
    "## Getting Started with JupyterLab and ipywidgets"
   ]
  },
  {
   "cell_type": "markdown",
   "id": "4895f487-d61c-49ee-805f-ed3041fb1651",
   "metadata": {},
   "source": [
    "### File Browser\n",
    "\n",
    "Familiar with the classic Jupyter Notebook interface? JupyterLab has a lot more features. For example you can **show or collapse** the file browser. This way, we don't have to work in multiple web browser tabs."
   ]
  },
  {
   "cell_type": "markdown",
   "id": "e19f6a9c-a672-4e5d-8a57-981e5786ff7a",
   "metadata": {},
   "source": [
    "### Use shift+enter to run the cell below"
   ]
  },
  {
   "cell_type": "code",
   "execution_count": null,
   "id": "e3b78f51-e8a2-4dde-bd2f-b846681e8119",
   "metadata": {},
   "outputs": [],
   "source": [
    "from ipywidgets import RadioButtons\n",
    "\n",
    "radio_buttons = RadioButtons(options = ('yes', 'maybe', 'no'))\n",
    "radio_buttons"
   ]
  },
  {
   "cell_type": "markdown",
   "id": "0c28f808-c92e-4dba-b841-9134e7017b46",
   "metadata": {},
   "source": [
    "### Output View\n",
    "\n",
    "Right click on the widget above and select \"Create New View for Output\"."
   ]
  },
  {
   "cell_type": "markdown",
   "id": "8606f8ef-dbf2-4a28-854c-121868d47154",
   "metadata": {},
   "source": [
    "### Click-and-drag windows\n",
    "\n",
    "Try it out with the Output View"
   ]
  },
  {
   "cell_type": "markdown",
   "id": "e79e3f42-4b87-45b2-95e1-bd54dfa83b86",
   "metadata": {},
   "source": [
    "### Bi-directional communication\n",
    "\n",
    "Notice that the widgets are two views of the same underlying model. You can change either one and changes will be reflected in the other."
   ]
  },
  {
   "cell_type": "markdown",
   "id": "d1ec732b-06e4-48d1-8211-85000a4e19bf",
   "metadata": {},
   "source": [
    "### What are widgets anyway?\n",
    "\n",
    "Controls that are displayed in browser. They are JavaScript under the hood, but we will interact with them entirely in python.\n",
    "\n",
    "Go to [nicole-brewer/awesome-jupyter-widgets](https://github.com/nicole-brewer/awesome-jupyter-widgets) and look for...\n",
    "- ipywidgets (classic Jupyter widgets)\n",
    "- other widgets in the Jupyter widget ecosystem"
   ]
  },
  {
   "cell_type": "markdown",
   "id": "79e7014f-d212-46b4-ae8d-c88226bf4d99",
   "metadata": {},
   "source": [
    "### Widgets have values"
   ]
  },
  {
   "cell_type": "code",
   "execution_count": null,
   "id": "f4315520-7b91-4725-8e9f-dc63e58d4e42",
   "metadata": {},
   "outputs": [],
   "source": [
    "radio_buttons.value"
   ]
  },
  {
   "cell_type": "markdown",
   "id": "46441dcf-695c-4ef2-bee7-1f727fe9fb24",
   "metadata": {},
   "source": [
    "### `value` is a trait\n",
    "\n",
    "You interact with it like an attribute. Try setting the value equal to 'yes'. You will see that this attribute isn't like most attributes belonging to regular objects. The change actually triggers an update to the view."
   ]
  },
  {
   "cell_type": "code",
   "execution_count": null,
   "id": "9e422a8b-25d7-4e9f-a2e9-9a1ffe127738",
   "metadata": {},
   "outputs": [],
   "source": [
    "# set the value of radio_buttons to 'yes'"
   ]
  },
  {
   "cell_type": "markdown",
   "id": "d8d24132-c547-41a8-a0fb-11d403f05903",
   "metadata": {},
   "source": [
    "Okay cool. But what if we want to do something in response the change of the `value` trait? How do we observe the change?"
   ]
  },
  {
   "cell_type": "markdown",
   "id": "d1e3044e-1c48-469a-bfe9-47d76cc34b47",
   "metadata": {},
   "source": [
    "The code below observes changes made to `radio_buttons` and prints the change object."
   ]
  },
  {
   "cell_type": "code",
   "execution_count": null,
   "id": "4ce68cef-eb1a-4bf7-934e-45a75ec1dd58",
   "metadata": {},
   "outputs": [],
   "source": [
    "def on_value_change(change):\n",
    "    print(change)\n",
    "\n",
    "radio_buttons.observe(on_value_change) "
   ]
  },
  {
   "cell_type": "code",
   "execution_count": null,
   "id": "a96c106f-9ce9-44b7-898b-042dbd0674fa",
   "metadata": {},
   "outputs": [],
   "source": [
    "radio_buttons"
   ]
  },
  {
   "cell_type": "markdown",
   "id": "78b13d06-f940-4cf1-9345-ba99b6c25ecd",
   "metadata": {},
   "source": [
    "If you change the value of radio_buttons, you will get a messsage to the log. It might be hiding, but you can pull it up by clicking the log icon at the bottom of the screen.\n",
    "\n"
   ]
  },
  {
   "cell_type": "markdown",
   "id": "0eb65c04-c7e8-41e6-98fc-0a01199c63a1",
   "metadata": {},
   "source": [
    "You should see a whole bunch of change dictionaries. That's not exactly what we want. `radio_buttons` has a lot of traits other than value. Right now, we are seeing them all. \n",
    "1. Let's update the call to observe to filter out all the other updates we aren't interested in\n",
    "2. Let's also print a more informative message: \"Value was \\<old_value> and is now \\<new_value>\""
   ]
  },
  {
   "cell_type": "code",
   "execution_count": null,
   "id": "84f1e291-c060-4802-91a0-a96a7b0659f8",
   "metadata": {},
   "outputs": [],
   "source": [
    "def on_value_change(change):\n",
    "    print(change) # update this print statement to be more informative \n",
    "\n",
    "radio_buttons.observe(on_value_change) # something is missing here"
   ]
  },
  {
   "cell_type": "markdown",
   "id": "3476ea6d-c175-4b10-a91f-327e459b1410",
   "metadata": {},
   "source": [
    "3. Now use the widget to change the value of `radio_buttons`\n",
    "\n",
    "What do we see? The new observe function seems to work, but it looks like the old one is still being called too. Let's clear all the observe functions attached to `radio_buttons` and then call `observe` again."
   ]
  },
  {
   "cell_type": "code",
   "execution_count": null,
   "id": "932ff263-0380-47a5-9ed6-3cf6a0704eb9",
   "metadata": {},
   "outputs": [],
   "source": [
    "radio_buttons.unobserve_all()\n",
    "# add the updated observe function again"
   ]
  },
  {
   "cell_type": "markdown",
   "id": "29445628-8221-4a1a-900e-7ef720c12181",
   "metadata": {},
   "source": [
    "Change the value of `radio_buttons` one more time. Did it work? Is it printing out the message as you expect it to?"
   ]
  },
  {
   "cell_type": "markdown",
   "id": "719058a9-12b2-4224-8863-2866b89b4a9f",
   "metadata": {},
   "source": [
    "### Under the hood: traitlets\n",
    "\n",
    "So how do ipywidgets work under the hood exactly? Well, ipywidgets are built on top of the [traitlets](https://traitlets.readthedocs.io/en/stable/using_traitlets.html#) library. Widgets inherit `HasTraits`, which gives us the ability to observe changes in its value. Let's build an object that works like a widget, but doesn't actually have a view. "
   ]
  },
  {
   "cell_type": "code",
   "execution_count": null,
   "id": "fd997f22-27d3-412e-ba77-4f1139184a5a",
   "metadata": {},
   "outputs": [],
   "source": [
    "from traitlets import HasTraits, Int\n",
    "\n",
    "class Number(HasTraits):\n",
    "    \n",
    "    value = Int()\n",
    "    square = Int()\n",
    "    \n",
    "    def __init__(self):\n",
    "        pass # what goes here?\n",
    "        # how do we observe the change\n",
    "        \n",
    "    def on_value_change(self, change):\n",
    "        self.square = change['new']**2"
   ]
  },
  {
   "cell_type": "code",
   "execution_count": null,
   "id": "2282ca4d-6c77-4e21-bd77-7f02569fef7b",
   "metadata": {},
   "outputs": [],
   "source": [
    "number = Number()\n",
    "number.value = 2\n",
    "number.square"
   ]
  },
  {
   "cell_type": "markdown",
   "id": "415ec323-f766-486a-961f-945b5f662935",
   "metadata": {},
   "source": [
    "## Congrats\n",
    "\n",
    "Great job! We made it to the end of our introduction. Next we will take a look at an actual scientific workflow, and then we will start using what we learned about ipywidgets to create a data dashboard. But first, let's preview the end product!"
   ]
  },
  {
   "cell_type": "code",
   "execution_count": null,
   "id": "9321648b-b998-4d57-9d04-d4eb76dfbaa0",
   "metadata": {},
   "outputs": [],
   "source": [
    "%%bash\n",
    "\n",
    "voila 04_dashboard.ipynb"
   ]
  },
  {
   "cell_type": "code",
   "execution_count": null,
   "id": "4faef101-3b7f-4b20-b48e-7d33968612a5",
   "metadata": {},
   "outputs": [],
   "source": []
  }
 ],
 "metadata": {
  "kernelspec": {
   "display_name": "python3",
   "language": "python",
   "name": "python3"
  }
 },
 "nbformat": 4,
 "nbformat_minor": 5
}
